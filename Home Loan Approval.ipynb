{
 "cells": [
  {
   "cell_type": "markdown",
   "id": "380a4c3a",
   "metadata": {},
   "source": [
    "# Loan Approval Dataset"
   ]
  },
  {
   "cell_type": "markdown",
   "id": "50ab2279",
   "metadata": {},
   "source": [
    "Finance companies deals with some kinds of home loans. They may have their presence across urban, semi urban and rural areas. Customer first applies for home loan and after that company validates the customer eligibility for loan.\n",
    "Mostly Company wants to automate the loan eligibility process (real time) based on customer detail provided while filling online application form. These details are Gender, Marital Status, Education, Number of Dependents, Income, Loan Amount, Credit History and others. To automate this process, I have provided a data set to identify the customers segments that are eligible for loan amount so that they can specifically target these customers. Try to automate this Loan Eligibility Process.\n",
    "\n",
    "1. Loan_ID- Unique Loan ID\n",
    "2. Gender- Male/ Female\n",
    "3. Married- Applicant married (Y/N)\n",
    "4. Dependents- Number of dependents\n",
    "5. Education- Applicant Education (Graduate/ Under Graduate)\n",
    "6. Self_Employed- Self employed (Y/N)\n",
    "7. ApplicantIncome- Applicant income\n",
    "8. CoapplicantIncome- Coapplicant income\n",
    "9. LoanAmount- Loan amount in thousands\n",
    "10. Loan_Amount_Term- Term of loan in months\n",
    "11. Credit_History- credit history meets guidelines\n",
    "12. Property_Area- Urban/ Semi Urban/ Rural\n",
    "13. Loan_Status- (Target) Loan approved (Y/N)"
   ]
  },
  {
   "cell_type": "code",
   "execution_count": 1,
   "id": "220ec977",
   "metadata": {},
   "outputs": [],
   "source": [
    "import pandas as pd\n",
    "import numpy as np\n",
    "import matplotlib.pyplot as plt\n",
    "import seaborn as sns\n",
    "%matplotlib inline\n",
    "import matplotlib\n",
    "matplotlib.rcParams['figure.figsize']=(4,1)\n",
    "# Modelling\n",
    "from sklearn.tree import DecisionTreeRegressor\n",
    "from sklearn.ensemble import RandomForestClassifier\n",
    "from sklearn.svm import SVC\n",
    "from sklearn.linear_model import LogisticRegression\n",
    "from sklearn.metrics import r2_score, mean_absolute_error, mean_squared_error,classification_report\n",
    "from sklearn.model_selection import RandomizedSearchCV,GridSearchCV\n",
    "from sklearn.model_selection import cross_val_score, KFold, cross_val_predict, StratifiedKFold\n",
    "from sklearn.pipeline import Pipeline, make_pipeline\n",
    "from sklearn import svm\n",
    "from sklearn.preprocessing import StandardScaler\n",
    "import warnings"
   ]
  },
  {
   "cell_type": "code",
   "execution_count": 2,
   "id": "49223431",
   "metadata": {},
   "outputs": [],
   "source": [
    "df_train=pd.read_csv(r'C:\\Users\\Administrator\\Desktop\\Data Science Project\\Finance Loan approval\\src\\notebook\\test.csv')\n",
    "df_test=pd.read_csv(r'C:\\Users\\Administrator\\Desktop\\Data Science Project\\Finance Loan approval\\src\\notebook\\train.csv')"
   ]
  },
  {
   "cell_type": "code",
   "execution_count": 3,
   "id": "df786bec",
   "metadata": {},
   "outputs": [
    {
     "data": {
      "text/html": [
       "<div>\n",
       "<style scoped>\n",
       "    .dataframe tbody tr th:only-of-type {\n",
       "        vertical-align: middle;\n",
       "    }\n",
       "\n",
       "    .dataframe tbody tr th {\n",
       "        vertical-align: top;\n",
       "    }\n",
       "\n",
       "    .dataframe thead th {\n",
       "        text-align: right;\n",
       "    }\n",
       "</style>\n",
       "<table border=\"1\" class=\"dataframe\">\n",
       "  <thead>\n",
       "    <tr style=\"text-align: right;\">\n",
       "      <th></th>\n",
       "      <th>Loan_ID</th>\n",
       "      <th>Gender</th>\n",
       "      <th>Married</th>\n",
       "      <th>Dependents</th>\n",
       "      <th>Education</th>\n",
       "      <th>Self_Employed</th>\n",
       "      <th>ApplicantIncome</th>\n",
       "      <th>CoapplicantIncome</th>\n",
       "      <th>LoanAmount</th>\n",
       "      <th>Loan_Amount_Term</th>\n",
       "      <th>Credit_History</th>\n",
       "      <th>Property_Area</th>\n",
       "    </tr>\n",
       "  </thead>\n",
       "  <tbody>\n",
       "    <tr>\n",
       "      <th>0</th>\n",
       "      <td>LP001015</td>\n",
       "      <td>Male</td>\n",
       "      <td>Yes</td>\n",
       "      <td>0</td>\n",
       "      <td>Graduate</td>\n",
       "      <td>No</td>\n",
       "      <td>5720</td>\n",
       "      <td>0</td>\n",
       "      <td>110.0</td>\n",
       "      <td>360.0</td>\n",
       "      <td>1.0</td>\n",
       "      <td>Urban</td>\n",
       "    </tr>\n",
       "    <tr>\n",
       "      <th>1</th>\n",
       "      <td>LP001022</td>\n",
       "      <td>Male</td>\n",
       "      <td>Yes</td>\n",
       "      <td>1</td>\n",
       "      <td>Graduate</td>\n",
       "      <td>No</td>\n",
       "      <td>3076</td>\n",
       "      <td>1500</td>\n",
       "      <td>126.0</td>\n",
       "      <td>360.0</td>\n",
       "      <td>1.0</td>\n",
       "      <td>Urban</td>\n",
       "    </tr>\n",
       "    <tr>\n",
       "      <th>2</th>\n",
       "      <td>LP001031</td>\n",
       "      <td>Male</td>\n",
       "      <td>Yes</td>\n",
       "      <td>2</td>\n",
       "      <td>Graduate</td>\n",
       "      <td>No</td>\n",
       "      <td>5000</td>\n",
       "      <td>1800</td>\n",
       "      <td>208.0</td>\n",
       "      <td>360.0</td>\n",
       "      <td>1.0</td>\n",
       "      <td>Urban</td>\n",
       "    </tr>\n",
       "    <tr>\n",
       "      <th>3</th>\n",
       "      <td>LP001035</td>\n",
       "      <td>Male</td>\n",
       "      <td>Yes</td>\n",
       "      <td>2</td>\n",
       "      <td>Graduate</td>\n",
       "      <td>No</td>\n",
       "      <td>2340</td>\n",
       "      <td>2546</td>\n",
       "      <td>100.0</td>\n",
       "      <td>360.0</td>\n",
       "      <td>NaN</td>\n",
       "      <td>Urban</td>\n",
       "    </tr>\n",
       "    <tr>\n",
       "      <th>4</th>\n",
       "      <td>LP001051</td>\n",
       "      <td>Male</td>\n",
       "      <td>No</td>\n",
       "      <td>0</td>\n",
       "      <td>Not Graduate</td>\n",
       "      <td>No</td>\n",
       "      <td>3276</td>\n",
       "      <td>0</td>\n",
       "      <td>78.0</td>\n",
       "      <td>360.0</td>\n",
       "      <td>1.0</td>\n",
       "      <td>Urban</td>\n",
       "    </tr>\n",
       "  </tbody>\n",
       "</table>\n",
       "</div>"
      ],
      "text/plain": [
       "    Loan_ID Gender Married Dependents     Education Self_Employed  \\\n",
       "0  LP001015   Male     Yes          0      Graduate            No   \n",
       "1  LP001022   Male     Yes          1      Graduate            No   \n",
       "2  LP001031   Male     Yes          2      Graduate            No   \n",
       "3  LP001035   Male     Yes          2      Graduate            No   \n",
       "4  LP001051   Male      No          0  Not Graduate            No   \n",
       "\n",
       "   ApplicantIncome  CoapplicantIncome  LoanAmount  Loan_Amount_Term  \\\n",
       "0             5720                  0       110.0             360.0   \n",
       "1             3076               1500       126.0             360.0   \n",
       "2             5000               1800       208.0             360.0   \n",
       "3             2340               2546       100.0             360.0   \n",
       "4             3276                  0        78.0             360.0   \n",
       "\n",
       "   Credit_History Property_Area  \n",
       "0             1.0         Urban  \n",
       "1             1.0         Urban  \n",
       "2             1.0         Urban  \n",
       "3             NaN         Urban  \n",
       "4             1.0         Urban  "
      ]
     },
     "execution_count": 3,
     "metadata": {},
     "output_type": "execute_result"
    }
   ],
   "source": [
    "df_train.head()"
   ]
  },
  {
   "cell_type": "code",
   "execution_count": 4,
   "id": "b5b75cf0",
   "metadata": {},
   "outputs": [
    {
     "data": {
      "text/html": [
       "<div>\n",
       "<style scoped>\n",
       "    .dataframe tbody tr th:only-of-type {\n",
       "        vertical-align: middle;\n",
       "    }\n",
       "\n",
       "    .dataframe tbody tr th {\n",
       "        vertical-align: top;\n",
       "    }\n",
       "\n",
       "    .dataframe thead th {\n",
       "        text-align: right;\n",
       "    }\n",
       "</style>\n",
       "<table border=\"1\" class=\"dataframe\">\n",
       "  <thead>\n",
       "    <tr style=\"text-align: right;\">\n",
       "      <th></th>\n",
       "      <th>Loan_ID</th>\n",
       "      <th>Gender</th>\n",
       "      <th>Married</th>\n",
       "      <th>Dependents</th>\n",
       "      <th>Education</th>\n",
       "      <th>Self_Employed</th>\n",
       "      <th>ApplicantIncome</th>\n",
       "      <th>CoapplicantIncome</th>\n",
       "      <th>LoanAmount</th>\n",
       "      <th>Loan_Amount_Term</th>\n",
       "      <th>Credit_History</th>\n",
       "      <th>Property_Area</th>\n",
       "      <th>Loan_Status</th>\n",
       "    </tr>\n",
       "  </thead>\n",
       "  <tbody>\n",
       "    <tr>\n",
       "      <th>0</th>\n",
       "      <td>LP001002</td>\n",
       "      <td>Male</td>\n",
       "      <td>No</td>\n",
       "      <td>0</td>\n",
       "      <td>Graduate</td>\n",
       "      <td>No</td>\n",
       "      <td>5849</td>\n",
       "      <td>0.0</td>\n",
       "      <td>NaN</td>\n",
       "      <td>360.0</td>\n",
       "      <td>1.0</td>\n",
       "      <td>Urban</td>\n",
       "      <td>Y</td>\n",
       "    </tr>\n",
       "    <tr>\n",
       "      <th>1</th>\n",
       "      <td>LP001003</td>\n",
       "      <td>Male</td>\n",
       "      <td>Yes</td>\n",
       "      <td>1</td>\n",
       "      <td>Graduate</td>\n",
       "      <td>No</td>\n",
       "      <td>4583</td>\n",
       "      <td>1508.0</td>\n",
       "      <td>128.0</td>\n",
       "      <td>360.0</td>\n",
       "      <td>1.0</td>\n",
       "      <td>Rural</td>\n",
       "      <td>N</td>\n",
       "    </tr>\n",
       "    <tr>\n",
       "      <th>2</th>\n",
       "      <td>LP001005</td>\n",
       "      <td>Male</td>\n",
       "      <td>Yes</td>\n",
       "      <td>0</td>\n",
       "      <td>Graduate</td>\n",
       "      <td>Yes</td>\n",
       "      <td>3000</td>\n",
       "      <td>0.0</td>\n",
       "      <td>66.0</td>\n",
       "      <td>360.0</td>\n",
       "      <td>1.0</td>\n",
       "      <td>Urban</td>\n",
       "      <td>Y</td>\n",
       "    </tr>\n",
       "    <tr>\n",
       "      <th>3</th>\n",
       "      <td>LP001006</td>\n",
       "      <td>Male</td>\n",
       "      <td>Yes</td>\n",
       "      <td>0</td>\n",
       "      <td>Not Graduate</td>\n",
       "      <td>No</td>\n",
       "      <td>2583</td>\n",
       "      <td>2358.0</td>\n",
       "      <td>120.0</td>\n",
       "      <td>360.0</td>\n",
       "      <td>1.0</td>\n",
       "      <td>Urban</td>\n",
       "      <td>Y</td>\n",
       "    </tr>\n",
       "    <tr>\n",
       "      <th>4</th>\n",
       "      <td>LP001008</td>\n",
       "      <td>Male</td>\n",
       "      <td>No</td>\n",
       "      <td>0</td>\n",
       "      <td>Graduate</td>\n",
       "      <td>No</td>\n",
       "      <td>6000</td>\n",
       "      <td>0.0</td>\n",
       "      <td>141.0</td>\n",
       "      <td>360.0</td>\n",
       "      <td>1.0</td>\n",
       "      <td>Urban</td>\n",
       "      <td>Y</td>\n",
       "    </tr>\n",
       "  </tbody>\n",
       "</table>\n",
       "</div>"
      ],
      "text/plain": [
       "    Loan_ID Gender Married Dependents     Education Self_Employed  \\\n",
       "0  LP001002   Male      No          0      Graduate            No   \n",
       "1  LP001003   Male     Yes          1      Graduate            No   \n",
       "2  LP001005   Male     Yes          0      Graduate           Yes   \n",
       "3  LP001006   Male     Yes          0  Not Graduate            No   \n",
       "4  LP001008   Male      No          0      Graduate            No   \n",
       "\n",
       "   ApplicantIncome  CoapplicantIncome  LoanAmount  Loan_Amount_Term  \\\n",
       "0             5849                0.0         NaN             360.0   \n",
       "1             4583             1508.0       128.0             360.0   \n",
       "2             3000                0.0        66.0             360.0   \n",
       "3             2583             2358.0       120.0             360.0   \n",
       "4             6000                0.0       141.0             360.0   \n",
       "\n",
       "   Credit_History Property_Area Loan_Status  \n",
       "0             1.0         Urban           Y  \n",
       "1             1.0         Rural           N  \n",
       "2             1.0         Urban           Y  \n",
       "3             1.0         Urban           Y  \n",
       "4             1.0         Urban           Y  "
      ]
     },
     "execution_count": 4,
     "metadata": {},
     "output_type": "execute_result"
    }
   ],
   "source": [
    "df_test.head()"
   ]
  },
  {
   "cell_type": "code",
   "execution_count": 5,
   "id": "0dea2665",
   "metadata": {},
   "outputs": [],
   "source": [
    "df=pd.concat([df_train,df_test])"
   ]
  },
  {
   "cell_type": "code",
   "execution_count": 6,
   "id": "220a4f9c",
   "metadata": {},
   "outputs": [
    {
     "data": {
      "text/html": [
       "<div>\n",
       "<style scoped>\n",
       "    .dataframe tbody tr th:only-of-type {\n",
       "        vertical-align: middle;\n",
       "    }\n",
       "\n",
       "    .dataframe tbody tr th {\n",
       "        vertical-align: top;\n",
       "    }\n",
       "\n",
       "    .dataframe thead th {\n",
       "        text-align: right;\n",
       "    }\n",
       "</style>\n",
       "<table border=\"1\" class=\"dataframe\">\n",
       "  <thead>\n",
       "    <tr style=\"text-align: right;\">\n",
       "      <th></th>\n",
       "      <th>Loan_ID</th>\n",
       "      <th>Gender</th>\n",
       "      <th>Married</th>\n",
       "      <th>Dependents</th>\n",
       "      <th>Education</th>\n",
       "      <th>Self_Employed</th>\n",
       "      <th>ApplicantIncome</th>\n",
       "      <th>CoapplicantIncome</th>\n",
       "      <th>LoanAmount</th>\n",
       "      <th>Loan_Amount_Term</th>\n",
       "      <th>Credit_History</th>\n",
       "      <th>Property_Area</th>\n",
       "      <th>Loan_Status</th>\n",
       "    </tr>\n",
       "  </thead>\n",
       "  <tbody>\n",
       "    <tr>\n",
       "      <th>0</th>\n",
       "      <td>LP001015</td>\n",
       "      <td>Male</td>\n",
       "      <td>Yes</td>\n",
       "      <td>0</td>\n",
       "      <td>Graduate</td>\n",
       "      <td>No</td>\n",
       "      <td>5720</td>\n",
       "      <td>0.0</td>\n",
       "      <td>110.0</td>\n",
       "      <td>360.0</td>\n",
       "      <td>1.0</td>\n",
       "      <td>Urban</td>\n",
       "      <td>NaN</td>\n",
       "    </tr>\n",
       "    <tr>\n",
       "      <th>1</th>\n",
       "      <td>LP001022</td>\n",
       "      <td>Male</td>\n",
       "      <td>Yes</td>\n",
       "      <td>1</td>\n",
       "      <td>Graduate</td>\n",
       "      <td>No</td>\n",
       "      <td>3076</td>\n",
       "      <td>1500.0</td>\n",
       "      <td>126.0</td>\n",
       "      <td>360.0</td>\n",
       "      <td>1.0</td>\n",
       "      <td>Urban</td>\n",
       "      <td>NaN</td>\n",
       "    </tr>\n",
       "    <tr>\n",
       "      <th>2</th>\n",
       "      <td>LP001031</td>\n",
       "      <td>Male</td>\n",
       "      <td>Yes</td>\n",
       "      <td>2</td>\n",
       "      <td>Graduate</td>\n",
       "      <td>No</td>\n",
       "      <td>5000</td>\n",
       "      <td>1800.0</td>\n",
       "      <td>208.0</td>\n",
       "      <td>360.0</td>\n",
       "      <td>1.0</td>\n",
       "      <td>Urban</td>\n",
       "      <td>NaN</td>\n",
       "    </tr>\n",
       "    <tr>\n",
       "      <th>3</th>\n",
       "      <td>LP001035</td>\n",
       "      <td>Male</td>\n",
       "      <td>Yes</td>\n",
       "      <td>2</td>\n",
       "      <td>Graduate</td>\n",
       "      <td>No</td>\n",
       "      <td>2340</td>\n",
       "      <td>2546.0</td>\n",
       "      <td>100.0</td>\n",
       "      <td>360.0</td>\n",
       "      <td>NaN</td>\n",
       "      <td>Urban</td>\n",
       "      <td>NaN</td>\n",
       "    </tr>\n",
       "    <tr>\n",
       "      <th>4</th>\n",
       "      <td>LP001051</td>\n",
       "      <td>Male</td>\n",
       "      <td>No</td>\n",
       "      <td>0</td>\n",
       "      <td>Not Graduate</td>\n",
       "      <td>No</td>\n",
       "      <td>3276</td>\n",
       "      <td>0.0</td>\n",
       "      <td>78.0</td>\n",
       "      <td>360.0</td>\n",
       "      <td>1.0</td>\n",
       "      <td>Urban</td>\n",
       "      <td>NaN</td>\n",
       "    </tr>\n",
       "  </tbody>\n",
       "</table>\n",
       "</div>"
      ],
      "text/plain": [
       "    Loan_ID Gender Married Dependents     Education Self_Employed  \\\n",
       "0  LP001015   Male     Yes          0      Graduate            No   \n",
       "1  LP001022   Male     Yes          1      Graduate            No   \n",
       "2  LP001031   Male     Yes          2      Graduate            No   \n",
       "3  LP001035   Male     Yes          2      Graduate            No   \n",
       "4  LP001051   Male      No          0  Not Graduate            No   \n",
       "\n",
       "   ApplicantIncome  CoapplicantIncome  LoanAmount  Loan_Amount_Term  \\\n",
       "0             5720                0.0       110.0             360.0   \n",
       "1             3076             1500.0       126.0             360.0   \n",
       "2             5000             1800.0       208.0             360.0   \n",
       "3             2340             2546.0       100.0             360.0   \n",
       "4             3276                0.0        78.0             360.0   \n",
       "\n",
       "   Credit_History Property_Area Loan_Status  \n",
       "0             1.0         Urban         NaN  \n",
       "1             1.0         Urban         NaN  \n",
       "2             1.0         Urban         NaN  \n",
       "3             NaN         Urban         NaN  \n",
       "4             1.0         Urban         NaN  "
      ]
     },
     "execution_count": 6,
     "metadata": {},
     "output_type": "execute_result"
    }
   ],
   "source": [
    "df.head()"
   ]
  },
  {
   "cell_type": "code",
   "execution_count": 7,
   "id": "8434e1c6",
   "metadata": {},
   "outputs": [
    {
     "name": "stdout",
     "output_type": "stream",
     "text": [
      "<class 'pandas.core.frame.DataFrame'>\n",
      "Index: 981 entries, 0 to 613\n",
      "Data columns (total 13 columns):\n",
      " #   Column             Non-Null Count  Dtype  \n",
      "---  ------             --------------  -----  \n",
      " 0   Loan_ID            981 non-null    object \n",
      " 1   Gender             957 non-null    object \n",
      " 2   Married            978 non-null    object \n",
      " 3   Dependents         956 non-null    object \n",
      " 4   Education          981 non-null    object \n",
      " 5   Self_Employed      926 non-null    object \n",
      " 6   ApplicantIncome    981 non-null    int64  \n",
      " 7   CoapplicantIncome  981 non-null    float64\n",
      " 8   LoanAmount         954 non-null    float64\n",
      " 9   Loan_Amount_Term   961 non-null    float64\n",
      " 10  Credit_History     902 non-null    float64\n",
      " 11  Property_Area      981 non-null    object \n",
      " 12  Loan_Status        614 non-null    object \n",
      "dtypes: float64(4), int64(1), object(8)\n",
      "memory usage: 107.3+ KB\n"
     ]
    }
   ],
   "source": [
    "df.info()"
   ]
  },
  {
   "cell_type": "markdown",
   "id": "401fc71b",
   "metadata": {},
   "source": [
    "# Handle Categorical Missing Value"
   ]
  },
  {
   "cell_type": "code",
   "execution_count": 8,
   "id": "ffb794ec",
   "metadata": {},
   "outputs": [
    {
     "data": {
      "text/plain": [
       "Loan_ID                0\n",
       "Gender                24\n",
       "Married                3\n",
       "Dependents            25\n",
       "Education              0\n",
       "Self_Employed         55\n",
       "ApplicantIncome        0\n",
       "CoapplicantIncome      0\n",
       "LoanAmount            27\n",
       "Loan_Amount_Term      20\n",
       "Credit_History        79\n",
       "Property_Area          0\n",
       "Loan_Status          367\n",
       "dtype: int64"
      ]
     },
     "execution_count": 8,
     "metadata": {},
     "output_type": "execute_result"
    }
   ],
   "source": [
    "df.isnull().sum()"
   ]
  },
  {
   "cell_type": "code",
   "execution_count": 9,
   "id": "4a35b3a8",
   "metadata": {},
   "outputs": [
    {
     "data": {
      "text/plain": [
       "array(['Male', 'Female', nan], dtype=object)"
      ]
     },
     "execution_count": 9,
     "metadata": {},
     "output_type": "execute_result"
    }
   ],
   "source": [
    "df['Gender'].unique()"
   ]
  },
  {
   "cell_type": "code",
   "execution_count": 10,
   "id": "59d9c62d",
   "metadata": {},
   "outputs": [
    {
     "data": {
      "text/plain": [
       "<Axes: xlabel='Gender', ylabel='count'>"
      ]
     },
     "execution_count": 10,
     "metadata": {},
     "output_type": "execute_result"
    },
    {
     "data": {
      "image/png": "[encoded data removed]",
      "text/plain": [
       "<Figure size 144x144 with 1 Axes>"
      ]
     },
     "metadata": {
      "needs_background": "light"
     },
     "output_type": "display_data"
    }
   ],
   "source": [
    "plt.figure(figsize=(2,2))\n",
    "sns.countplot(x='Gender',data=df)"
   ]
  },
  {
   "cell_type": "code",
   "execution_count": 11,
   "id": "3f938650",
   "metadata": {},
   "outputs": [
    {
     "data": {
      "text/plain": [
       "array(['0', '1', '2', '3+', nan], dtype=object)"
      ]
     },
     "execution_count": 11,
     "metadata": {},
     "output_type": "execute_result"
    }
   ],
   "source": [
    "df['Dependents'].unique()"
   ]
  },
  {
   "cell_type": "code",
   "execution_count": 12,
   "id": "e8539c5f",
   "metadata": {},
   "outputs": [],
   "source": [
    "df['Dependents'] = df['Dependents'].str.replace('+', '')"
   ]
  },
  {
   "cell_type": "code",
   "execution_count": 13,
   "id": "f8bd012b",
   "metadata": {},
   "outputs": [
    {
     "data": {
      "text/plain": [
       "<Axes: xlabel='Dependents', ylabel='count'>"
      ]
     },
     "execution_count": 13,
     "metadata": {},
     "output_type": "execute_result"
    },
    {
     "data": {
      "image/png": "[encoded data removed]",
      "text/plain": [
       "<Figure size 144x144 with 1 Axes>"
      ]
     },
     "metadata": {
      "needs_background": "light"
     },
     "output_type": "display_data"
    }
   ],
   "source": [
    "plt.figure(figsize=(2,2))\n",
    "sns.countplot(x='Dependents',data=df)"
   ]
  },
  {
   "cell_type": "code",
   "execution_count": 14,
   "id": "b2c301d0",
   "metadata": {},
   "outputs": [
    {
     "data": {
      "text/plain": [
       "array(['No', 'Yes', nan], dtype=object)"
      ]
     },
     "execution_count": 14,
     "metadata": {},
     "output_type": "execute_result"
    }
   ],
   "source": [
    "df['Self_Employed'].unique()"
   ]
  },
  {
   "cell_type": "code",
   "execution_count": 15,
   "id": "089bec12",
   "metadata": {},
   "outputs": [
    {
     "data": {
      "text/plain": [
       "<Axes: xlabel='Self_Employed', ylabel='count'>"
      ]
     },
     "execution_count": 15,
     "metadata": {},
     "output_type": "execute_result"
    },
    {
     "data": {
      "image/png": "[encoded data removed]",
      "text/plain": [
       "<Figure size 144x144 with 1 Axes>"
      ]
     },
     "metadata": {
      "needs_background": "light"
     },
     "output_type": "display_data"
    }
   ],
   "source": [
    "plt.figure(figsize=(2,2))\n",
    "sns.countplot(x='Self_Employed',data=df)"
   ]
  },
  {
   "cell_type": "code",
   "execution_count": 16,
   "id": "854219df",
   "metadata": {},
   "outputs": [],
   "source": [
    "columns_to_replace = ['Gender', 'Dependents', 'Self_Employed','Married','Loan_Status']        #Loan status has bee added         \n",
    "df[columns_to_replace] = df[columns_to_replace].fillna(df.mode().iloc[0])"
   ]
  },
  {
   "cell_type": "code",
   "execution_count": 17,
   "id": "de4982c7",
   "metadata": {},
   "outputs": [
    {
     "data": {
      "text/plain": [
       "Loan_ID               0\n",
       "Gender                0\n",
       "Married               0\n",
       "Dependents            0\n",
       "Education             0\n",
       "Self_Employed         0\n",
       "ApplicantIncome       0\n",
       "CoapplicantIncome     0\n",
       "LoanAmount           27\n",
       "Loan_Amount_Term     20\n",
       "Credit_History       79\n",
       "Property_Area         0\n",
       "Loan_Status           0\n",
       "dtype: int64"
      ]
     },
     "execution_count": 17,
     "metadata": {},
     "output_type": "execute_result"
    }
   ],
   "source": [
    "df.isnull().sum()"
   ]
  },
  {
   "cell_type": "code",
   "execution_count": 18,
   "id": "9174097c",
   "metadata": {},
   "outputs": [
    {
     "data": {
      "text/plain": [
       "array(['Urban', 'Semiurban', 'Rural'], dtype=object)"
      ]
     },
     "execution_count": 18,
     "metadata": {},
     "output_type": "execute_result"
    }
   ],
   "source": [
    "df['Property_Area'].unique()"
   ]
  },
  {
   "cell_type": "code",
   "execution_count": 19,
   "id": "20502f2a",
   "metadata": {},
   "outputs": [
    {
     "data": {
      "text/plain": [
       "<Axes: xlabel='Property_Area', ylabel='count'>"
      ]
     },
     "execution_count": 19,
     "metadata": {},
     "output_type": "execute_result"
    },
    {
     "data": {
      "image/png": "[encoded data removed]",
      "text/plain": [
       "<Figure size 360x144 with 1 Axes>"
      ]
     },
     "metadata": {
      "needs_background": "light"
     },
     "output_type": "display_data"
    }
   ],
   "source": [
    "plt.figure(figsize=(5,2))\n",
    "sns.countplot(x='Property_Area',data=df)"
   ]
  },
  {
   "cell_type": "markdown",
   "id": "eca877ad",
   "metadata": {},
   "source": [
    "# Handle Numerical Missing Value"
   ]
  },
  {
   "cell_type": "markdown",
   "id": "f3e0146f",
   "metadata": {},
   "source": [
    "corr_matrix = df.corr()\n",
    "sns.heatmap(corr_matrix, annot=True, cmap='coolwarm')\n",
    "plt.show()\n"
   ]
  },
  {
   "cell_type": "code",
   "execution_count": 20,
   "id": "cd4c4e79",
   "metadata": {},
   "outputs": [
    {
     "data": {
      "text/plain": [
       "(array([544., 322.,  63.,  24.,  14.,   3.,   1.,   2.,   1.,   3.,   0.,\n",
       "          0.,   1.,   0.,   0.,   1.,   0.,   1.,   0.,   1.]),\n",
       " array([    0.,  4050.,  8100., 12150., 16200., 20250., 24300., 28350.,\n",
       "        32400., 36450., 40500., 44550., 48600., 52650., 56700., 60750.,\n",
       "        64800., 68850., 72900., 76950., 81000.]),\n",
       " <BarContainer object of 20 artists>)"
      ]
     },
     "execution_count": 20,
     "metadata": {},
     "output_type": "execute_result"
    },
    {
     "data": {
      "image/png": "[encoded data removed]",
      "text/plain": [
       "<Figure size 288x72 with 1 Axes>"
      ]
     },
     "metadata": {
      "needs_background": "light"
     },
     "output_type": "display_data"
    }
   ],
   "source": [
    "plt.hist(df['ApplicantIncome'],bins=20)"
   ]
  },
  {
   "cell_type": "code",
   "execution_count": 21,
   "id": "475f69f1",
   "metadata": {},
   "outputs": [
    {
     "data": {
      "text/plain": [
       "(array([ 19.,  92., 234., 281., 150.,  88.,  20.,  25.,  15.,   6.,   5.,\n",
       "          4.,   1.,   5.,   3.,   1.,   1.,   2.,   1.,   1.]),\n",
       " array([  9.  ,  43.55,  78.1 , 112.65, 147.2 , 181.75, 216.3 , 250.85,\n",
       "        285.4 , 319.95, 354.5 , 389.05, 423.6 , 458.15, 492.7 , 527.25,\n",
       "        561.8 , 596.35, 630.9 , 665.45, 700.  ]),\n",
       " <BarContainer object of 20 artists>)"
      ]
     },
     "execution_count": 21,
     "metadata": {},
     "output_type": "execute_result"
    },
    {
     "data": {
      "image/png": "[encoded data removed]",
      "text/plain": [
       "<Figure size 288x72 with 1 Axes>"
      ]
     },
     "metadata": {
      "needs_background": "light"
     },
     "output_type": "display_data"
    }
   ],
   "source": [
    "plt.hist(df['LoanAmount'],bins=20)"
   ]
  },
  {
   "cell_type": "code",
   "execution_count": 22,
   "id": "6b0db619",
   "metadata": {},
   "outputs": [
    {
     "ename": "TypeError",
     "evalue": "could not convert string to float: 'LP001015'",
     "output_type": "error",
     "traceback": [
      "\u001b[1;31m---------------------------------------------------------------------------\u001b[0m",
      "\u001b[1;31mValueError\u001b[0m                                Traceback (most recent call last)",
      "File \u001b[1;32mc:\\Users\\Administrator\\AppData\\Local\\Programs\\Python\\Python310\\lib\\site-packages\\pandas\\core\\nanops.py:786\u001b[0m, in \u001b[0;36mnanmedian\u001b[1;34m(values, axis, skipna, mask)\u001b[0m\n\u001b[0;32m    785\u001b[0m \u001b[39mtry\u001b[39;00m:\n\u001b[1;32m--> 786\u001b[0m     values \u001b[39m=\u001b[39m values\u001b[39m.\u001b[39;49mastype(\u001b[39m\"\u001b[39;49m\u001b[39mf8\u001b[39;49m\u001b[39m\"\u001b[39;49m)\n\u001b[0;32m    787\u001b[0m \u001b[39mexcept\u001b[39;00m \u001b[39mValueError\u001b[39;00m \u001b[39mas\u001b[39;00m err:\n\u001b[0;32m    788\u001b[0m     \u001b[39m# e.g. \"could not convert string to float: 'a'\"\u001b[39;00m\n",
      "\u001b[1;31mValueError\u001b[0m: could not convert string to float: 'LP001015'",
      "\nThe above exception was the direct cause of the following exception:\n",
      "\u001b[1;31mTypeError\u001b[0m                                 Traceback (most recent call last)",
      "\u001b[1;32mc:\\Users\\Administrator\\Desktop\\Data Science Project\\Home Loan Approval\\Home Loan Approval.ipynb Cell 27\u001b[0m in \u001b[0;36m<cell line: 2>\u001b[1;34m()\u001b[0m\n\u001b[0;32m      <a href='vscode-notebook-cell:/c%3A/Users/Administrator/Desktop/Data%20Science%20Project/Home%20Loan%20Approval/Home%20Loan%20Approval.ipynb#X35sZmlsZQ%3D%3D?line=0'>1</a>\u001b[0m num_columns_to_replace \u001b[39m=\u001b[39m [\u001b[39m'\u001b[39m\u001b[39mLoanAmount\u001b[39m\u001b[39m'\u001b[39m, \u001b[39m'\u001b[39m\u001b[39mLoan_Amount_Term\u001b[39m\u001b[39m'\u001b[39m,\u001b[39m'\u001b[39m\u001b[39mCredit_History\u001b[39m\u001b[39m'\u001b[39m]                 \n\u001b[1;32m----> <a href='vscode-notebook-cell:/c%3A/Users/Administrator/Desktop/Data%20Science%20Project/Home%20Loan%20Approval/Home%20Loan%20Approval.ipynb#X35sZmlsZQ%3D%3D?line=1'>2</a>\u001b[0m df[num_columns_to_replace] \u001b[39m=\u001b[39m df[num_columns_to_replace]\u001b[39m.\u001b[39mfillna(df\u001b[39m.\u001b[39;49mmedian()\u001b[39m.\u001b[39miloc[\u001b[39m0\u001b[39m])\n",
      "File \u001b[1;32mc:\\Users\\Administrator\\AppData\\Local\\Programs\\Python\\Python310\\lib\\site-packages\\pandas\\core\\generic.py:11623\u001b[0m, in \u001b[0;36mNDFrame._add_numeric_operations.<locals>.median\u001b[1;34m(self, axis, skipna, numeric_only, **kwargs)\u001b[0m\n\u001b[0;32m  11606\u001b[0m \u001b[39m@doc\u001b[39m(\n\u001b[0;32m  11607\u001b[0m     _num_doc,\n\u001b[0;32m  11608\u001b[0m     desc\u001b[39m=\u001b[39m\u001b[39m\"\u001b[39m\u001b[39mReturn the median of the values over the requested axis.\u001b[39m\u001b[39m\"\u001b[39m,\n\u001b[1;32m   (...)\u001b[0m\n\u001b[0;32m  11621\u001b[0m     \u001b[39m*\u001b[39m\u001b[39m*\u001b[39mkwargs,\n\u001b[0;32m  11622\u001b[0m ):\n\u001b[1;32m> 11623\u001b[0m     \u001b[39mreturn\u001b[39;00m NDFrame\u001b[39m.\u001b[39mmedian(\u001b[39mself\u001b[39m, axis, skipna, numeric_only, \u001b[39m*\u001b[39m\u001b[39m*\u001b[39mkwargs)\n",
      "File \u001b[1;32mc:\\Users\\Administrator\\AppData\\Local\\Programs\\Python\\Python310\\lib\\site-packages\\pandas\\core\\generic.py:11212\u001b[0m, in \u001b[0;36mNDFrame.median\u001b[1;34m(self, axis, skipna, numeric_only, **kwargs)\u001b[0m\n\u001b[0;32m  11205\u001b[0m \u001b[39mdef\u001b[39;00m \u001b[39mmedian\u001b[39m(\n\u001b[0;32m  11206\u001b[0m     \u001b[39mself\u001b[39m,\n\u001b[0;32m  11207\u001b[0m     axis: Axis \u001b[39m|\u001b[39m \u001b[39mNone\u001b[39;00m \u001b[39m=\u001b[39m \u001b[39m0\u001b[39m,\n\u001b[1;32m   (...)\u001b[0m\n\u001b[0;32m  11210\u001b[0m     \u001b[39m*\u001b[39m\u001b[39m*\u001b[39mkwargs,\n\u001b[0;32m  11211\u001b[0m ) \u001b[39m-\u001b[39m\u001b[39m>\u001b[39m Series \u001b[39m|\u001b[39m \u001b[39mfloat\u001b[39m:\n\u001b[1;32m> 11212\u001b[0m     \u001b[39mreturn\u001b[39;00m \u001b[39mself\u001b[39m\u001b[39m.\u001b[39m_stat_function(\n\u001b[0;32m  11213\u001b[0m         \u001b[39m\"\u001b[39m\u001b[39mmedian\u001b[39m\u001b[39m\"\u001b[39m, nanops\u001b[39m.\u001b[39mnanmedian, axis, skipna, numeric_only, \u001b[39m*\u001b[39m\u001b[39m*\u001b[39mkwargs\n\u001b[0;32m  11214\u001b[0m     )\n",
      "File \u001b[1;32mc:\\Users\\Administrator\\AppData\\Local\\Programs\\Python\\Python310\\lib\\site-packages\\pandas\\core\\generic.py:11158\u001b[0m, in \u001b[0;36mNDFrame._stat_function\u001b[1;34m(self, name, func, axis, skipna, numeric_only, **kwargs)\u001b[0m\n\u001b[0;32m  11154\u001b[0m     nv\u001b[39m.\u001b[39mvalidate_stat_func((), kwargs, fname\u001b[39m=\u001b[39mname)\n\u001b[0;32m  11156\u001b[0m validate_bool_kwarg(skipna, \u001b[39m\"\u001b[39m\u001b[39mskipna\u001b[39m\u001b[39m\"\u001b[39m, none_allowed\u001b[39m=\u001b[39m\u001b[39mFalse\u001b[39;00m)\n\u001b[1;32m> 11158\u001b[0m \u001b[39mreturn\u001b[39;00m \u001b[39mself\u001b[39;49m\u001b[39m.\u001b[39;49m_reduce(\n\u001b[0;32m  11159\u001b[0m     func, name\u001b[39m=\u001b[39;49mname, axis\u001b[39m=\u001b[39;49maxis, skipna\u001b[39m=\u001b[39;49mskipna, numeric_only\u001b[39m=\u001b[39;49mnumeric_only\n\u001b[0;32m  11160\u001b[0m )\n",
      "File \u001b[1;32mc:\\Users\\Administrator\\AppData\\Local\\Programs\\Python\\Python310\\lib\\site-packages\\pandas\\core\\frame.py:10519\u001b[0m, in \u001b[0;36mDataFrame._reduce\u001b[1;34m(self, op, name, axis, skipna, numeric_only, filter_type, **kwds)\u001b[0m\n\u001b[0;32m  10515\u001b[0m     df \u001b[39m=\u001b[39m df\u001b[39m.\u001b[39mT\n\u001b[0;32m  10517\u001b[0m \u001b[39m# After possibly _get_data and transposing, we are now in the\u001b[39;00m\n\u001b[0;32m  10518\u001b[0m \u001b[39m#  simple case where we can use BlockManager.reduce\u001b[39;00m\n\u001b[1;32m> 10519\u001b[0m res \u001b[39m=\u001b[39m df\u001b[39m.\u001b[39;49m_mgr\u001b[39m.\u001b[39;49mreduce(blk_func)\n\u001b[0;32m  10520\u001b[0m out \u001b[39m=\u001b[39m df\u001b[39m.\u001b[39m_constructor(res)\u001b[39m.\u001b[39miloc[\u001b[39m0\u001b[39m]\n\u001b[0;32m  10521\u001b[0m \u001b[39mif\u001b[39;00m out_dtype \u001b[39mis\u001b[39;00m \u001b[39mnot\u001b[39;00m \u001b[39mNone\u001b[39;00m:\n",
      "File \u001b[1;32mc:\\Users\\Administrator\\AppData\\Local\\Programs\\Python\\Python310\\lib\\site-packages\\pandas\\core\\internals\\managers.py:1534\u001b[0m, in \u001b[0;36mBlockManager.reduce\u001b[1;34m(self, func)\u001b[0m\n\u001b[0;32m   1532\u001b[0m res_blocks: \u001b[39mlist\u001b[39m[Block] \u001b[39m=\u001b[39m []\n\u001b[0;32m   1533\u001b[0m \u001b[39mfor\u001b[39;00m blk \u001b[39min\u001b[39;00m \u001b[39mself\u001b[39m\u001b[39m.\u001b[39mblocks:\n\u001b[1;32m-> 1534\u001b[0m     nbs \u001b[39m=\u001b[39m blk\u001b[39m.\u001b[39;49mreduce(func)\n\u001b[0;32m   1535\u001b[0m     res_blocks\u001b[39m.\u001b[39mextend(nbs)\n\u001b[0;32m   1537\u001b[0m index \u001b[39m=\u001b[39m Index([\u001b[39mNone\u001b[39;00m])  \u001b[39m# placeholder\u001b[39;00m\n",
      "File \u001b[1;32mc:\\Users\\Administrator\\AppData\\Local\\Programs\\Python\\Python310\\lib\\site-packages\\pandas\\core\\internals\\blocks.py:339\u001b[0m, in \u001b[0;36mBlock.reduce\u001b[1;34m(self, func)\u001b[0m\n\u001b[0;32m    333\u001b[0m \u001b[39m@final\u001b[39m\n\u001b[0;32m    334\u001b[0m \u001b[39mdef\u001b[39;00m \u001b[39mreduce\u001b[39m(\u001b[39mself\u001b[39m, func) \u001b[39m-\u001b[39m\u001b[39m>\u001b[39m \u001b[39mlist\u001b[39m[Block]:\n\u001b[0;32m    335\u001b[0m     \u001b[39m# We will apply the function and reshape the result into a single-row\u001b[39;00m\n\u001b[0;32m    336\u001b[0m     \u001b[39m#  Block with the same mgr_locs; squeezing will be done at a higher level\u001b[39;00m\n\u001b[0;32m    337\u001b[0m     \u001b[39massert\u001b[39;00m \u001b[39mself\u001b[39m\u001b[39m.\u001b[39mndim \u001b[39m==\u001b[39m \u001b[39m2\u001b[39m\n\u001b[1;32m--> 339\u001b[0m     result \u001b[39m=\u001b[39m func(\u001b[39mself\u001b[39;49m\u001b[39m.\u001b[39;49mvalues)\n\u001b[0;32m    341\u001b[0m     \u001b[39mif\u001b[39;00m \u001b[39mself\u001b[39m\u001b[39m.\u001b[39mvalues\u001b[39m.\u001b[39mndim \u001b[39m==\u001b[39m \u001b[39m1\u001b[39m:\n\u001b[0;32m    342\u001b[0m         \u001b[39m# TODO(EA2D): special case not needed with 2D EAs\u001b[39;00m\n\u001b[0;32m    343\u001b[0m         res_values \u001b[39m=\u001b[39m np\u001b[39m.\u001b[39marray([[result]])\n",
      "File \u001b[1;32mc:\\Users\\Administrator\\AppData\\Local\\Programs\\Python\\Python310\\lib\\site-packages\\pandas\\core\\frame.py:10482\u001b[0m, in \u001b[0;36mDataFrame._reduce.<locals>.blk_func\u001b[1;34m(values, axis)\u001b[0m\n\u001b[0;32m  10480\u001b[0m     \u001b[39mreturn\u001b[39;00m values\u001b[39m.\u001b[39m_reduce(name, skipna\u001b[39m=\u001b[39mskipna, \u001b[39m*\u001b[39m\u001b[39m*\u001b[39mkwds)\n\u001b[0;32m  10481\u001b[0m \u001b[39melse\u001b[39;00m:\n\u001b[1;32m> 10482\u001b[0m     \u001b[39mreturn\u001b[39;00m op(values, axis\u001b[39m=\u001b[39maxis, skipna\u001b[39m=\u001b[39mskipna, \u001b[39m*\u001b[39m\u001b[39m*\u001b[39mkwds)\n",
      "File \u001b[1;32mc:\\Users\\Administrator\\AppData\\Local\\Programs\\Python\\Python310\\lib\\site-packages\\pandas\\core\\nanops.py:158\u001b[0m, in \u001b[0;36mbottleneck_switch.__call__.<locals>.f\u001b[1;34m(values, axis, skipna, **kwds)\u001b[0m\n\u001b[0;32m    156\u001b[0m         result \u001b[39m=\u001b[39m alt(values, axis\u001b[39m=\u001b[39maxis, skipna\u001b[39m=\u001b[39mskipna, \u001b[39m*\u001b[39m\u001b[39m*\u001b[39mkwds)\n\u001b[0;32m    157\u001b[0m \u001b[39melse\u001b[39;00m:\n\u001b[1;32m--> 158\u001b[0m     result \u001b[39m=\u001b[39m alt(values, axis\u001b[39m=\u001b[39maxis, skipna\u001b[39m=\u001b[39mskipna, \u001b[39m*\u001b[39m\u001b[39m*\u001b[39mkwds)\n\u001b[0;32m    160\u001b[0m \u001b[39mreturn\u001b[39;00m result\n",
      "File \u001b[1;32mc:\\Users\\Administrator\\AppData\\Local\\Programs\\Python\\Python310\\lib\\site-packages\\pandas\\core\\nanops.py:789\u001b[0m, in \u001b[0;36mnanmedian\u001b[1;34m(values, axis, skipna, mask)\u001b[0m\n\u001b[0;32m    786\u001b[0m         values \u001b[39m=\u001b[39m values\u001b[39m.\u001b[39mastype(\u001b[39m\"\u001b[39m\u001b[39mf8\u001b[39m\u001b[39m\"\u001b[39m)\n\u001b[0;32m    787\u001b[0m     \u001b[39mexcept\u001b[39;00m \u001b[39mValueError\u001b[39;00m \u001b[39mas\u001b[39;00m err:\n\u001b[0;32m    788\u001b[0m         \u001b[39m# e.g. \"could not convert string to float: 'a'\"\u001b[39;00m\n\u001b[1;32m--> 789\u001b[0m         \u001b[39mraise\u001b[39;00m \u001b[39mTypeError\u001b[39;00m(\u001b[39mstr\u001b[39m(err)) \u001b[39mfrom\u001b[39;00m \u001b[39merr\u001b[39;00m\n\u001b[0;32m    790\u001b[0m \u001b[39mif\u001b[39;00m mask \u001b[39mis\u001b[39;00m \u001b[39mnot\u001b[39;00m \u001b[39mNone\u001b[39;00m:\n\u001b[0;32m    791\u001b[0m     values[mask] \u001b[39m=\u001b[39m np\u001b[39m.\u001b[39mnan\n",
      "\u001b[1;31mTypeError\u001b[0m: could not convert string to float: 'LP001015'"
     ]
    }
   ],
   "source": [
    "num_columns_to_replace = ['LoanAmount', 'Loan_Amount_Term','Credit_History']                 \n",
    "df[num_columns_to_replace] = df[num_columns_to_replace].fillna(df.median().iloc[0])"
   ]
  },
  {
   "cell_type": "code",
   "execution_count": null,
   "id": "287ae4ea",
   "metadata": {},
   "outputs": [
    {
     "data": {
      "text/plain": [
       "Loan_ID              0\n",
       "Gender               0\n",
       "Married              0\n",
       "Dependents           0\n",
       "Education            0\n",
       "Self_Employed        0\n",
       "ApplicantIncome      0\n",
       "CoapplicantIncome    0\n",
       "LoanAmount           0\n",
       "Loan_Amount_Term     0\n",
       "Credit_History       0\n",
       "Property_Area        0\n",
       "Loan_Status          0\n",
       "dtype: int64"
      ]
     },
     "execution_count": 25,
     "metadata": {},
     "output_type": "execute_result"
    }
   ],
   "source": [
    "df.isnull().sum()"
   ]
  },
  {
   "cell_type": "markdown",
   "id": "ddf4fe2e",
   "metadata": {},
   "source": [
    "# Encode Categorical Features"
   ]
  },
  {
   "cell_type": "code",
   "execution_count": null,
   "id": "bea4bc9e",
   "metadata": {},
   "outputs": [],
   "source": [
    "df['Gender']=df['Gender'].map({'Female':0,'Male':1})\n",
    "df['Married']=df['Married'].map({'No':0,'Yes':1})\n",
    "df['Education']=df['Education'].map({'Not Graduate':0,'Graduate':1})\n",
    "df['Self_Employed']=df['Self_Employed'].map({'No':0,'Yes':1})\n",
    "df['Loan_Status']=df['Loan_Status'].map({'N':0,'Y':1})\n",
    "df['Property_Area']=df['Property_Area'].map({'Rural':0,'Semiurban':1, 'Urban':2})"
   ]
  },
  {
   "cell_type": "code",
   "execution_count": null,
   "id": "3c8abf21",
   "metadata": {},
   "outputs": [
    {
     "data": {
      "text/html": [
       "<div>\n",
       "<style scoped>\n",
       "    .dataframe tbody tr th:only-of-type {\n",
       "        vertical-align: middle;\n",
       "    }\n",
       "\n",
       "    .dataframe tbody tr th {\n",
       "        vertical-align: top;\n",
       "    }\n",
       "\n",
       "    .dataframe thead th {\n",
       "        text-align: right;\n",
       "    }\n",
       "</style>\n",
       "<table border=\"1\" class=\"dataframe\">\n",
       "  <thead>\n",
       "    <tr style=\"text-align: right;\">\n",
       "      <th></th>\n",
       "      <th>Loan_ID</th>\n",
       "      <th>Gender</th>\n",
       "      <th>Married</th>\n",
       "      <th>Dependents</th>\n",
       "      <th>Education</th>\n",
       "      <th>Self_Employed</th>\n",
       "      <th>ApplicantIncome</th>\n",
       "      <th>CoapplicantIncome</th>\n",
       "      <th>LoanAmount</th>\n",
       "      <th>Loan_Amount_Term</th>\n",
       "      <th>Credit_History</th>\n",
       "      <th>Property_Area</th>\n",
       "      <th>Loan_Status</th>\n",
       "    </tr>\n",
       "  </thead>\n",
       "  <tbody>\n",
       "    <tr>\n",
       "      <th>0</th>\n",
       "      <td>LP001015</td>\n",
       "      <td>1</td>\n",
       "      <td>1</td>\n",
       "      <td>0</td>\n",
       "      <td>1</td>\n",
       "      <td>0</td>\n",
       "      <td>5720</td>\n",
       "      <td>0.0</td>\n",
       "      <td>110.0</td>\n",
       "      <td>360.0</td>\n",
       "      <td>1.0</td>\n",
       "      <td>2</td>\n",
       "      <td>1</td>\n",
       "    </tr>\n",
       "    <tr>\n",
       "      <th>1</th>\n",
       "      <td>LP001022</td>\n",
       "      <td>1</td>\n",
       "      <td>1</td>\n",
       "      <td>1</td>\n",
       "      <td>1</td>\n",
       "      <td>0</td>\n",
       "      <td>3076</td>\n",
       "      <td>1500.0</td>\n",
       "      <td>126.0</td>\n",
       "      <td>360.0</td>\n",
       "      <td>1.0</td>\n",
       "      <td>2</td>\n",
       "      <td>1</td>\n",
       "    </tr>\n",
       "    <tr>\n",
       "      <th>2</th>\n",
       "      <td>LP001031</td>\n",
       "      <td>1</td>\n",
       "      <td>1</td>\n",
       "      <td>2</td>\n",
       "      <td>1</td>\n",
       "      <td>0</td>\n",
       "      <td>5000</td>\n",
       "      <td>1800.0</td>\n",
       "      <td>208.0</td>\n",
       "      <td>360.0</td>\n",
       "      <td>1.0</td>\n",
       "      <td>2</td>\n",
       "      <td>1</td>\n",
       "    </tr>\n",
       "    <tr>\n",
       "      <th>3</th>\n",
       "      <td>LP001035</td>\n",
       "      <td>1</td>\n",
       "      <td>1</td>\n",
       "      <td>2</td>\n",
       "      <td>1</td>\n",
       "      <td>0</td>\n",
       "      <td>2340</td>\n",
       "      <td>2546.0</td>\n",
       "      <td>100.0</td>\n",
       "      <td>360.0</td>\n",
       "      <td>0.0</td>\n",
       "      <td>2</td>\n",
       "      <td>1</td>\n",
       "    </tr>\n",
       "    <tr>\n",
       "      <th>4</th>\n",
       "      <td>LP001051</td>\n",
       "      <td>1</td>\n",
       "      <td>0</td>\n",
       "      <td>0</td>\n",
       "      <td>0</td>\n",
       "      <td>0</td>\n",
       "      <td>3276</td>\n",
       "      <td>0.0</td>\n",
       "      <td>78.0</td>\n",
       "      <td>360.0</td>\n",
       "      <td>1.0</td>\n",
       "      <td>2</td>\n",
       "      <td>1</td>\n",
       "    </tr>\n",
       "  </tbody>\n",
       "</table>\n",
       "</div>"
      ],
      "text/plain": [
       "    Loan_ID  Gender  Married Dependents  Education  Self_Employed  \\\n",
       "0  LP001015       1        1          0          1              0   \n",
       "1  LP001022       1        1          1          1              0   \n",
       "2  LP001031       1        1          2          1              0   \n",
       "3  LP001035       1        1          2          1              0   \n",
       "4  LP001051       1        0          0          0              0   \n",
       "\n",
       "   ApplicantIncome  CoapplicantIncome  LoanAmount  Loan_Amount_Term  \\\n",
       "0             5720                0.0       110.0             360.0   \n",
       "1             3076             1500.0       126.0             360.0   \n",
       "2             5000             1800.0       208.0             360.0   \n",
       "3             2340             2546.0       100.0             360.0   \n",
       "4             3276                0.0        78.0             360.0   \n",
       "\n",
       "   Credit_History  Property_Area  Loan_Status  \n",
       "0             1.0              2            1  \n",
       "1             1.0              2            1  \n",
       "2             1.0              2            1  \n",
       "3             0.0              2            1  \n",
       "4             1.0              2            1  "
      ]
     },
     "execution_count": 27,
     "metadata": {},
     "output_type": "execute_result"
    }
   ],
   "source": [
    "df.head()"
   ]
  },
  {
   "cell_type": "code",
   "execution_count": null,
   "id": "c8970376",
   "metadata": {},
   "outputs": [
    {
     "name": "stderr",
     "output_type": "stream",
     "text": [
      "C:\\Users\\Administrator\\AppData\\Local\\Temp\\ipykernel_32364\\1134722465.py:1: FutureWarning: The default value of numeric_only in DataFrame.corr is deprecated. In a future version, it will default to False. Select only valid columns or specify the value of numeric_only to silence this warning.\n",
      "  df.corr()\n"
     ]
    },
    {
     "data": {
      "text/html": [
       "<div>\n",
       "<style scoped>\n",
       "    .dataframe tbody tr th:only-of-type {\n",
       "        vertical-align: middle;\n",
       "    }\n",
       "\n",
       "    .dataframe tbody tr th {\n",
       "        vertical-align: top;\n",
       "    }\n",
       "\n",
       "    .dataframe thead th {\n",
       "        text-align: right;\n",
       "    }\n",
       "</style>\n",
       "<table border=\"1\" class=\"dataframe\">\n",
       "  <thead>\n",
       "    <tr style=\"text-align: right;\">\n",
       "      <th></th>\n",
       "      <th>Gender</th>\n",
       "      <th>Married</th>\n",
       "      <th>Education</th>\n",
       "      <th>Self_Employed</th>\n",
       "      <th>ApplicantIncome</th>\n",
       "      <th>CoapplicantIncome</th>\n",
       "      <th>LoanAmount</th>\n",
       "      <th>Loan_Amount_Term</th>\n",
       "      <th>Credit_History</th>\n",
       "      <th>Property_Area</th>\n",
       "      <th>Loan_Status</th>\n",
       "    </tr>\n",
       "  </thead>\n",
       "  <tbody>\n",
       "    <tr>\n",
       "      <th>Gender</th>\n",
       "      <td>1.000000</td>\n",
       "      <td>0.327012</td>\n",
       "      <td>-0.040649</td>\n",
       "      <td>0.024719</td>\n",
       "      <td>0.060444</td>\n",
       "      <td>0.082428</td>\n",
       "      <td>0.087561</td>\n",
       "      <td>-0.063592</td>\n",
       "      <td>0.030381</td>\n",
       "      <td>-0.020801</td>\n",
       "      <td>0.009116</td>\n",
       "    </tr>\n",
       "    <tr>\n",
       "      <th>Married</th>\n",
       "      <td>0.327012</td>\n",
       "      <td>1.000000</td>\n",
       "      <td>-0.026211</td>\n",
       "      <td>0.013666</td>\n",
       "      <td>0.052126</td>\n",
       "      <td>0.061606</td>\n",
       "      <td>0.140185</td>\n",
       "      <td>-0.048255</td>\n",
       "      <td>0.018733</td>\n",
       "      <td>0.006372</td>\n",
       "      <td>0.059570</td>\n",
       "    </tr>\n",
       "    <tr>\n",
       "      <th>Education</th>\n",
       "      <td>-0.040649</td>\n",
       "      <td>-0.026211</td>\n",
       "      <td>1.000000</td>\n",
       "      <td>0.010848</td>\n",
       "      <td>0.138909</td>\n",
       "      <td>0.060380</td>\n",
       "      <td>0.163894</td>\n",
       "      <td>0.056236</td>\n",
       "      <td>0.055557</td>\n",
       "      <td>0.050685</td>\n",
       "      <td>0.057680</td>\n",
       "    </tr>\n",
       "    <tr>\n",
       "      <th>Self_Employed</th>\n",
       "      <td>0.024719</td>\n",
       "      <td>0.013666</td>\n",
       "      <td>0.010848</td>\n",
       "      <td>1.000000</td>\n",
       "      <td>0.113106</td>\n",
       "      <td>-0.018861</td>\n",
       "      <td>0.103809</td>\n",
       "      <td>-0.019222</td>\n",
       "      <td>0.033584</td>\n",
       "      <td>-0.059678</td>\n",
       "      <td>-0.021323</td>\n",
       "    </tr>\n",
       "    <tr>\n",
       "      <th>ApplicantIncome</th>\n",
       "      <td>0.060444</td>\n",
       "      <td>0.052126</td>\n",
       "      <td>0.138909</td>\n",
       "      <td>0.113106</td>\n",
       "      <td>1.000000</td>\n",
       "      <td>-0.114247</td>\n",
       "      <td>0.518314</td>\n",
       "      <td>-0.006297</td>\n",
       "      <td>0.029453</td>\n",
       "      <td>0.005513</td>\n",
       "      <td>-0.023077</td>\n",
       "    </tr>\n",
       "    <tr>\n",
       "      <th>CoapplicantIncome</th>\n",
       "      <td>0.082428</td>\n",
       "      <td>0.061606</td>\n",
       "      <td>0.060380</td>\n",
       "      <td>-0.018861</td>\n",
       "      <td>-0.114247</td>\n",
       "      <td>1.000000</td>\n",
       "      <td>0.178831</td>\n",
       "      <td>-0.049129</td>\n",
       "      <td>-0.068562</td>\n",
       "      <td>-0.024921</td>\n",
       "      <td>-0.050084</td>\n",
       "    </tr>\n",
       "    <tr>\n",
       "      <th>LoanAmount</th>\n",
       "      <td>0.087561</td>\n",
       "      <td>0.140185</td>\n",
       "      <td>0.163894</td>\n",
       "      <td>0.103809</td>\n",
       "      <td>0.518314</td>\n",
       "      <td>0.178831</td>\n",
       "      <td>1.000000</td>\n",
       "      <td>0.058462</td>\n",
       "      <td>-0.023243</td>\n",
       "      <td>-0.044483</td>\n",
       "      <td>-0.024532</td>\n",
       "    </tr>\n",
       "    <tr>\n",
       "      <th>Loan_Amount_Term</th>\n",
       "      <td>-0.063592</td>\n",
       "      <td>-0.048255</td>\n",
       "      <td>0.056236</td>\n",
       "      <td>-0.019222</td>\n",
       "      <td>-0.006297</td>\n",
       "      <td>-0.049129</td>\n",
       "      <td>0.058462</td>\n",
       "      <td>1.000000</td>\n",
       "      <td>0.019032</td>\n",
       "      <td>-0.049651</td>\n",
       "      <td>0.011716</td>\n",
       "    </tr>\n",
       "    <tr>\n",
       "      <th>Credit_History</th>\n",
       "      <td>0.030381</td>\n",
       "      <td>0.018733</td>\n",
       "      <td>0.055557</td>\n",
       "      <td>0.033584</td>\n",
       "      <td>0.029453</td>\n",
       "      <td>-0.068562</td>\n",
       "      <td>-0.023243</td>\n",
       "      <td>0.019032</td>\n",
       "      <td>1.000000</td>\n",
       "      <td>0.009153</td>\n",
       "      <td>0.308099</td>\n",
       "    </tr>\n",
       "    <tr>\n",
       "      <th>Property_Area</th>\n",
       "      <td>-0.020801</td>\n",
       "      <td>0.006372</td>\n",
       "      <td>0.050685</td>\n",
       "      <td>-0.059678</td>\n",
       "      <td>0.005513</td>\n",
       "      <td>-0.024921</td>\n",
       "      <td>-0.044483</td>\n",
       "      <td>-0.049651</td>\n",
       "      <td>0.009153</td>\n",
       "      <td>1.000000</td>\n",
       "      <td>0.032649</td>\n",
       "    </tr>\n",
       "    <tr>\n",
       "      <th>Loan_Status</th>\n",
       "      <td>0.009116</td>\n",
       "      <td>0.059570</td>\n",
       "      <td>0.057680</td>\n",
       "      <td>-0.021323</td>\n",
       "      <td>-0.023077</td>\n",
       "      <td>-0.050084</td>\n",
       "      <td>-0.024532</td>\n",
       "      <td>0.011716</td>\n",
       "      <td>0.308099</td>\n",
       "      <td>0.032649</td>\n",
       "      <td>1.000000</td>\n",
       "    </tr>\n",
       "  </tbody>\n",
       "</table>\n",
       "</div>"
      ],
      "text/plain": [
       "                     Gender   Married  Education  Self_Employed  \\\n",
       "Gender             1.000000  0.327012  -0.040649       0.024719   \n",
       "Married            0.327012  1.000000  -0.026211       0.013666   \n",
       "Education         -0.040649 -0.026211   1.000000       0.010848   \n",
       "Self_Employed      0.024719  0.013666   0.010848       1.000000   \n",
       "ApplicantIncome    0.060444  0.052126   0.138909       0.113106   \n",
       "CoapplicantIncome  0.082428  0.061606   0.060380      -0.018861   \n",
       "LoanAmount         0.087561  0.140185   0.163894       0.103809   \n",
       "Loan_Amount_Term  -0.063592 -0.048255   0.056236      -0.019222   \n",
       "Credit_History     0.030381  0.018733   0.055557       0.033584   \n",
       "Property_Area     -0.020801  0.006372   0.050685      -0.059678   \n",
       "Loan_Status        0.009116  0.059570   0.057680      -0.021323   \n",
       "\n",
       "                   ApplicantIncome  CoapplicantIncome  LoanAmount  \\\n",
       "Gender                    0.060444           0.082428    0.087561   \n",
       "Married                   0.052126           0.061606    0.140185   \n",
       "Education                 0.138909           0.060380    0.163894   \n",
       "Self_Employed             0.113106          -0.018861    0.103809   \n",
       "ApplicantIncome           1.000000          -0.114247    0.518314   \n",
       "CoapplicantIncome        -0.114247           1.000000    0.178831   \n",
       "LoanAmount                0.518314           0.178831    1.000000   \n",
       "Loan_Amount_Term         -0.006297          -0.049129    0.058462   \n",
       "Credit_History            0.029453          -0.068562   -0.023243   \n",
       "Property_Area             0.005513          -0.024921   -0.044483   \n",
       "Loan_Status              -0.023077          -0.050084   -0.024532   \n",
       "\n",
       "                   Loan_Amount_Term  Credit_History  Property_Area  \\\n",
       "Gender                    -0.063592        0.030381      -0.020801   \n",
       "Married                   -0.048255        0.018733       0.006372   \n",
       "Education                  0.056236        0.055557       0.050685   \n",
       "Self_Employed             -0.019222        0.033584      -0.059678   \n",
       "ApplicantIncome           -0.006297        0.029453       0.005513   \n",
       "CoapplicantIncome         -0.049129       -0.068562      -0.024921   \n",
       "LoanAmount                 0.058462       -0.023243      -0.044483   \n",
       "Loan_Amount_Term           1.000000        0.019032      -0.049651   \n",
       "Credit_History             0.019032        1.000000       0.009153   \n",
       "Property_Area             -0.049651        0.009153       1.000000   \n",
       "Loan_Status                0.011716        0.308099       0.032649   \n",
       "\n",
       "                   Loan_Status  \n",
       "Gender                0.009116  \n",
       "Married               0.059570  \n",
       "Education             0.057680  \n",
       "Self_Employed        -0.021323  \n",
       "ApplicantIncome      -0.023077  \n",
       "CoapplicantIncome    -0.050084  \n",
       "LoanAmount           -0.024532  \n",
       "Loan_Amount_Term      0.011716  \n",
       "Credit_History        0.308099  \n",
       "Property_Area         0.032649  \n",
       "Loan_Status           1.000000  "
      ]
     },
     "execution_count": 28,
     "metadata": {},
     "output_type": "execute_result"
    }
   ],
   "source": [
    "df.corr()"
   ]
  },
  {
   "cell_type": "code",
   "execution_count": null,
   "id": "26fcf978",
   "metadata": {},
   "outputs": [
    {
     "name": "stderr",
     "output_type": "stream",
     "text": [
      "C:\\Users\\Administrator\\AppData\\Local\\Temp\\ipykernel_32364\\787111090.py:2: FutureWarning: The default value of numeric_only in DataFrame.corr is deprecated. In a future version, it will default to False. Select only valid columns or specify the value of numeric_only to silence this warning.\n",
      "  sns.heatmap(df.corr(), annot=True, cmap='coolwarm', linewidths=0.5)\n"
     ]
    },
    {
     "data": {
      "image/png": "[encoded data removed]",
      "text/plain": [
       "<Figure size 800x400 with 2 Axes>"
      ]
     },
     "metadata": {},
     "output_type": "display_data"
    }
   ],
   "source": [
    "plt.figure(figsize=(8, 4))\n",
    "sns.heatmap(df.corr(), annot=True, cmap='coolwarm', linewidths=0.5)\n",
    "plt.title(\"Correlation Heatmap\")\n",
    "plt.show()"
   ]
  },
  {
   "cell_type": "code",
   "execution_count": null,
   "id": "b205937f",
   "metadata": {},
   "outputs": [],
   "source": [
    "df=df.drop(columns=['Loan_ID','Dependents','Gender'])"
   ]
  },
  {
   "cell_type": "code",
   "execution_count": null,
   "id": "2138fae6",
   "metadata": {},
   "outputs": [
    {
     "data": {
      "text/html": [
       "<div>\n",
       "<style scoped>\n",
       "    .dataframe tbody tr th:only-of-type {\n",
       "        vertical-align: middle;\n",
       "    }\n",
       "\n",
       "    .dataframe tbody tr th {\n",
       "        vertical-align: top;\n",
       "    }\n",
       "\n",
       "    .dataframe thead th {\n",
       "        text-align: right;\n",
       "    }\n",
       "</style>\n",
       "<table border=\"1\" class=\"dataframe\">\n",
       "  <thead>\n",
       "    <tr style=\"text-align: right;\">\n",
       "      <th></th>\n",
       "      <th>Married</th>\n",
       "      <th>Education</th>\n",
       "      <th>Self_Employed</th>\n",
       "      <th>ApplicantIncome</th>\n",
       "      <th>CoapplicantIncome</th>\n",
       "      <th>LoanAmount</th>\n",
       "      <th>Loan_Amount_Term</th>\n",
       "      <th>Credit_History</th>\n",
       "      <th>Property_Area</th>\n",
       "      <th>Loan_Status</th>\n",
       "    </tr>\n",
       "  </thead>\n",
       "  <tbody>\n",
       "    <tr>\n",
       "      <th>0</th>\n",
       "      <td>1</td>\n",
       "      <td>1</td>\n",
       "      <td>0</td>\n",
       "      <td>5720</td>\n",
       "      <td>0.0</td>\n",
       "      <td>110.0</td>\n",
       "      <td>360.0</td>\n",
       "      <td>1.0</td>\n",
       "      <td>2</td>\n",
       "      <td>1</td>\n",
       "    </tr>\n",
       "    <tr>\n",
       "      <th>1</th>\n",
       "      <td>1</td>\n",
       "      <td>1</td>\n",
       "      <td>0</td>\n",
       "      <td>3076</td>\n",
       "      <td>1500.0</td>\n",
       "      <td>126.0</td>\n",
       "      <td>360.0</td>\n",
       "      <td>1.0</td>\n",
       "      <td>2</td>\n",
       "      <td>1</td>\n",
       "    </tr>\n",
       "    <tr>\n",
       "      <th>2</th>\n",
       "      <td>1</td>\n",
       "      <td>1</td>\n",
       "      <td>0</td>\n",
       "      <td>5000</td>\n",
       "      <td>1800.0</td>\n",
       "      <td>208.0</td>\n",
       "      <td>360.0</td>\n",
       "      <td>1.0</td>\n",
       "      <td>2</td>\n",
       "      <td>1</td>\n",
       "    </tr>\n",
       "    <tr>\n",
       "      <th>3</th>\n",
       "      <td>1</td>\n",
       "      <td>1</td>\n",
       "      <td>0</td>\n",
       "      <td>2340</td>\n",
       "      <td>2546.0</td>\n",
       "      <td>100.0</td>\n",
       "      <td>360.0</td>\n",
       "      <td>0.0</td>\n",
       "      <td>2</td>\n",
       "      <td>1</td>\n",
       "    </tr>\n",
       "    <tr>\n",
       "      <th>4</th>\n",
       "      <td>0</td>\n",
       "      <td>0</td>\n",
       "      <td>0</td>\n",
       "      <td>3276</td>\n",
       "      <td>0.0</td>\n",
       "      <td>78.0</td>\n",
       "      <td>360.0</td>\n",
       "      <td>1.0</td>\n",
       "      <td>2</td>\n",
       "      <td>1</td>\n",
       "    </tr>\n",
       "  </tbody>\n",
       "</table>\n",
       "</div>"
      ],
      "text/plain": [
       "   Married  Education  Self_Employed  ApplicantIncome  CoapplicantIncome  \\\n",
       "0        1          1              0             5720                0.0   \n",
       "1        1          1              0             3076             1500.0   \n",
       "2        1          1              0             5000             1800.0   \n",
       "3        1          1              0             2340             2546.0   \n",
       "4        0          0              0             3276                0.0   \n",
       "\n",
       "   LoanAmount  Loan_Amount_Term  Credit_History  Property_Area  Loan_Status  \n",
       "0       110.0             360.0             1.0              2            1  \n",
       "1       126.0             360.0             1.0              2            1  \n",
       "2       208.0             360.0             1.0              2            1  \n",
       "3       100.0             360.0             0.0              2            1  \n",
       "4        78.0             360.0             1.0              2            1  "
      ]
     },
     "execution_count": 31,
     "metadata": {},
     "output_type": "execute_result"
    }
   ],
   "source": [
    "df.head()"
   ]
  },
  {
   "cell_type": "code",
   "execution_count": null,
   "id": "69524492",
   "metadata": {},
   "outputs": [],
   "source": [
    "X=df.drop(columns=['Loan_Status'])"
   ]
  },
  {
   "cell_type": "code",
   "execution_count": null,
   "id": "ab472db9",
   "metadata": {},
   "outputs": [],
   "source": [
    "y=df['Loan_Status']"
   ]
  },
  {
   "cell_type": "code",
   "execution_count": null,
   "id": "4161e999",
   "metadata": {},
   "outputs": [
    {
     "data": {
      "text/html": [
       "<div>\n",
       "<style scoped>\n",
       "    .dataframe tbody tr th:only-of-type {\n",
       "        vertical-align: middle;\n",
       "    }\n",
       "\n",
       "    .dataframe tbody tr th {\n",
       "        vertical-align: top;\n",
       "    }\n",
       "\n",
       "    .dataframe thead th {\n",
       "        text-align: right;\n",
       "    }\n",
       "</style>\n",
       "<table border=\"1\" class=\"dataframe\">\n",
       "  <thead>\n",
       "    <tr style=\"text-align: right;\">\n",
       "      <th></th>\n",
       "      <th>Married</th>\n",
       "      <th>Education</th>\n",
       "      <th>Self_Employed</th>\n",
       "      <th>ApplicantIncome</th>\n",
       "      <th>CoapplicantIncome</th>\n",
       "      <th>LoanAmount</th>\n",
       "      <th>Loan_Amount_Term</th>\n",
       "      <th>Credit_History</th>\n",
       "      <th>Property_Area</th>\n",
       "    </tr>\n",
       "  </thead>\n",
       "  <tbody>\n",
       "    <tr>\n",
       "      <th>0</th>\n",
       "      <td>1</td>\n",
       "      <td>1</td>\n",
       "      <td>0</td>\n",
       "      <td>5720</td>\n",
       "      <td>0.0</td>\n",
       "      <td>110.0</td>\n",
       "      <td>360.0</td>\n",
       "      <td>1.0</td>\n",
       "      <td>2</td>\n",
       "    </tr>\n",
       "    <tr>\n",
       "      <th>1</th>\n",
       "      <td>1</td>\n",
       "      <td>1</td>\n",
       "      <td>0</td>\n",
       "      <td>3076</td>\n",
       "      <td>1500.0</td>\n",
       "      <td>126.0</td>\n",
       "      <td>360.0</td>\n",
       "      <td>1.0</td>\n",
       "      <td>2</td>\n",
       "    </tr>\n",
       "    <tr>\n",
       "      <th>2</th>\n",
       "      <td>1</td>\n",
       "      <td>1</td>\n",
       "      <td>0</td>\n",
       "      <td>5000</td>\n",
       "      <td>1800.0</td>\n",
       "      <td>208.0</td>\n",
       "      <td>360.0</td>\n",
       "      <td>1.0</td>\n",
       "      <td>2</td>\n",
       "    </tr>\n",
       "    <tr>\n",
       "      <th>3</th>\n",
       "      <td>1</td>\n",
       "      <td>1</td>\n",
       "      <td>0</td>\n",
       "      <td>2340</td>\n",
       "      <td>2546.0</td>\n",
       "      <td>100.0</td>\n",
       "      <td>360.0</td>\n",
       "      <td>0.0</td>\n",
       "      <td>2</td>\n",
       "    </tr>\n",
       "    <tr>\n",
       "      <th>4</th>\n",
       "      <td>0</td>\n",
       "      <td>0</td>\n",
       "      <td>0</td>\n",
       "      <td>3276</td>\n",
       "      <td>0.0</td>\n",
       "      <td>78.0</td>\n",
       "      <td>360.0</td>\n",
       "      <td>1.0</td>\n",
       "      <td>2</td>\n",
       "    </tr>\n",
       "  </tbody>\n",
       "</table>\n",
       "</div>"
      ],
      "text/plain": [
       "   Married  Education  Self_Employed  ApplicantIncome  CoapplicantIncome  \\\n",
       "0        1          1              0             5720                0.0   \n",
       "1        1          1              0             3076             1500.0   \n",
       "2        1          1              0             5000             1800.0   \n",
       "3        1          1              0             2340             2546.0   \n",
       "4        0          0              0             3276                0.0   \n",
       "\n",
       "   LoanAmount  Loan_Amount_Term  Credit_History  Property_Area  \n",
       "0       110.0             360.0             1.0              2  \n",
       "1       126.0             360.0             1.0              2  \n",
       "2       208.0             360.0             1.0              2  \n",
       "3       100.0             360.0             0.0              2  \n",
       "4        78.0             360.0             1.0              2  "
      ]
     },
     "execution_count": 34,
     "metadata": {},
     "output_type": "execute_result"
    }
   ],
   "source": [
    "X.head()"
   ]
  },
  {
   "cell_type": "code",
   "execution_count": null,
   "id": "d5038465",
   "metadata": {},
   "outputs": [
    {
     "data": {
      "text/plain": [
       "0    1\n",
       "1    1\n",
       "2    1\n",
       "3    1\n",
       "4    1\n",
       "Name: Loan_Status, dtype: int64"
      ]
     },
     "execution_count": 35,
     "metadata": {},
     "output_type": "execute_result"
    }
   ],
   "source": [
    "y.head()"
   ]
  },
  {
   "cell_type": "markdown",
   "id": "426884b8",
   "metadata": {},
   "source": [
    "# Data Modelling"
   ]
  },
  {
   "cell_type": "code",
   "execution_count": null,
   "id": "cc74b91c",
   "metadata": {},
   "outputs": [
    {
     "name": "stdout",
     "output_type": "stream",
     "text": [
      "TRAIN: [  0   1   2   3   4   5   6   7   9  10  11  12  13  14  15  16  17  18\n",
      "  19  20  22  23  24  25  27  28  29  30  31  32  33  36  37  38  41  42\n",
      "  43  44  45  46  47  48  50  51  52  53  55  56  60  62  64  65  67  68\n",
      "  70  71  72  73  74  76  77  78  79  81  83  84  85  86  87  88  89  90\n",
      "  91  92  94  95  96  99 100 101 102 104 105 106 107 108 109 110 111 112\n",
      " 115 116 117 118 120 122 123 125 126 131 132 133 134 135 136 137 138 139\n",
      " 141 142 146 147 149 150 152 154 156 157 158 159 160 161 162 164 166 167\n",
      " 168 170 171 172 173 177 178 179 180 181 182 183 184 186 187 188 189 190\n",
      " 191 193 194 195 200 202 203 205 207 208 209 211 212 213 214 216 217 219\n",
      " 222 223 224 227 229 230 232 233 234 235 236 238 239 240 241 242 243 244\n",
      " 246 248 249 251 252 253 254 255 256 257 259 260 262 263 264 265 266 268\n",
      " 270 271 272 273 274 275 277 278 279 281 282 283 286 287 288 290 291 292\n",
      " 293 295 297 298 300 301 302 304 305 306 307 310 311 312 313 314 315 316\n",
      " 318 319 320 327 328 329 331 332 333 334 335 336 337 338 339 340 341 344\n",
      " 345 346 347 348 349 351 352 353 354 355 357 358 359 362 363 364 365 366\n",
      " 367 369 371 372 373 374 375 376 377 378 379 380 382 383 384 386 387 388\n",
      " 389 390 391 392 393 394 395 397 398 401 403 404 405 407 408 410 412 414\n",
      " 416 418 419 422 423 424 426 428 429 431 432 433 434 435 436 437 438 439\n",
      " 440 442 443 444 446 447 448 451 452 453 454 455 457 458 459 460 462 463\n",
      " 464 465 468 469 470 471 472 473 474 476 477 478 479 480 481 482 483 484\n",
      " 485 487 488 489 490 491 492 493 495 496 499 502 503 505 506 507 508 509\n",
      " 510 511 512 513 514 516 517 518 519 521 522 523 524 525 526 529 530 531\n",
      " 532 535 536 537 538 539 540 541 542 544 545 546 547 548 549 550 551 553\n",
      " 554 555 557 558 559 560 561 562 564 565 567 571 573 576 579 581 584 585\n",
      " 587 588 589 590 591 592 593 594 595 596 597 598 599 601 602 604 606 607\n",
      " 608 609 610 613 615 616 618 619 620 623 624 625 626 629 630 631 632 633\n",
      " 635 636 637 638 639 640 641 642 646 647 648 650 651 652 653 654 656 657\n",
      " 658 659 660 661 663 664 665 666 667 668 670 671 673 675 676 677 678 679\n",
      " 681 684 686 687 688 692 693 694 697 699 700 702 703 704 705 706 707 708\n",
      " 709 711 712 713 714 715 716 717 719 720 721 722 723 725 726 727 728 729\n",
      " 730 731 732 733 734 735 736 738 739 740 741 742 744 745 746 747 748 749\n",
      " 750 751 752 753 754 755 756 757 758 760 761 762 763 764 765 766 767 768\n",
      " 769 770 774 778 779 780 781 783 784 785 786 787 788 789 790 791 792 793\n",
      " 794 796 797 799 800 801 804 806 807 809 811 813 814 815 816 817 818 820\n",
      " 821 822 823 824 825 826 827 830 831 834 835 837 838 839 840 841 842 843\n",
      " 845 846 847 849 851 852 853 854 855 858 859 860 861 862 863 865 866 867\n",
      " 869 871 872 874 875 877 878 879 880 882 883 884 885 886 887 891 893 894\n",
      " 895 896 898 899 900 902 903 904 905 906 907 908 909 911 912 913 914 915\n",
      " 916 917 918 919 920 921 922 923 924 925 926 927 928 929 931 932 935 936\n",
      " 938 939 941 942 943 944 945 946 947 948 949 950 952 953 954 955 956 957\n",
      " 958 959 960 961 963 965 966 967 968 969 970 974 975 976 978] TEST: [  8  21  26  34  35  39  40  49  54  57  58  59  61  63  66  69  75  80\n",
      "  82  93  97  98 103 113 114 119 121 124 127 128 129 130 140 143 144 145\n",
      " 148 151 153 155 163 165 169 174 175 176 185 192 196 197 198 199 201 204\n",
      " 206 210 215 218 220 221 225 226 228 231 237 245 247 250 258 261 267 269\n",
      " 276 280 284 285 289 294 296 299 303 308 309 317 321 322 323 324 325 326\n",
      " 330 342 343 350 356 360 361 368 370 381 385 396 399 400 402 406 409 411\n",
      " 413 415 417 420 421 425 427 430 441 445 449 450 456 461 466 467 475 486\n",
      " 494 497 498 500 501 504 515 520 527 528 533 534 543 552 556 563 566 568\n",
      " 569 570 572 574 575 577 578 580 582 583 586 600 603 605 611 612 614 617\n",
      " 621 622 627 628 634 643 644 645 649 655 662 669 672 674 680 682 683 685\n",
      " 689 690 691 695 696 698 701 710 718 724 737 743 759 771 772 773 775 776\n",
      " 777 782 795 798 802 803 805 808 810 812 819 828 829 832 833 836 844 848\n",
      " 850 856 857 864 868 870 873 876 881 888 889 890 892 897 901 910 930 933\n",
      " 934 937 940 951 962 964 971 972 973 977 979 980]\n",
      "TRAIN: [  0   2   3   5   6   7   8  10  11  12  14  15  16  17  18  19  20  21\n",
      "  22  23  25  26  27  28  29  30  31  33  34  35  36  37  38  39  40  41\n",
      "  42  43  45  46  48  49  54  55  56  57  58  59  60  61  63  64  65  66\n",
      "  68  69  72  73  74  75  76  77  79  80  82  83  84  85  86  87  88  89\n",
      "  91  92  93  94  96  97  98  99 100 101 102 103 104 106 107 110 111 112\n",
      " 113 114 115 118 119 120 121 122 123 124 125 127 128 129 130 132 133 134\n",
      " 135 136 139 140 141 142 143 144 145 146 147 148 149 150 151 152 153 154\n",
      " 155 156 157 160 162 163 164 165 168 169 170 173 174 175 176 177 179 181\n",
      " 184 185 187 188 192 193 194 195 196 197 198 199 201 202 204 205 206 207\n",
      " 208 209 210 211 214 215 216 218 219 220 221 222 225 226 228 231 232 233\n",
      " 234 235 236 237 238 239 241 242 243 244 245 247 248 249 250 251 253 254\n",
      " 255 256 258 261 262 264 265 266 267 269 271 274 276 277 278 279 280 281\n",
      " 283 284 285 286 288 289 290 291 292 294 295 296 297 299 300 302 303 304\n",
      " 305 307 308 309 310 311 312 315 316 317 318 320 321 322 323 324 325 326\n",
      " 327 329 330 331 332 334 335 338 339 340 341 342 343 344 345 346 348 350\n",
      " 351 354 355 356 358 359 360 361 362 363 364 366 367 368 369 370 372 373\n",
      " 374 375 376 377 378 379 380 381 382 385 386 387 388 390 393 394 395 396\n",
      " 397 398 399 400 401 402 403 404 405 406 407 408 409 411 413 414 415 417\n",
      " 418 420 421 423 424 425 426 427 429 430 431 432 433 434 437 438 440 441\n",
      " 443 444 445 446 448 449 450 451 453 455 456 457 458 461 463 464 466 467\n",
      " 471 472 475 476 477 479 481 482 483 484 485 486 490 492 493 494 495 496\n",
      " 497 498 499 500 501 502 503 504 505 507 508 510 515 517 519 520 521 522\n",
      " 523 524 527 528 529 530 531 532 533 534 535 536 537 538 540 543 544 545\n",
      " 546 547 548 550 551 552 554 555 556 557 560 562 563 565 566 567 568 569\n",
      " 570 571 572 573 574 575 576 577 578 580 581 582 583 584 586 588 589 590\n",
      " 591 592 594 597 598 599 600 601 602 603 604 605 606 607 610 611 612 614\n",
      " 615 617 618 619 620 621 622 623 624 625 626 627 628 629 631 634 635 637\n",
      " 641 642 643 644 645 647 648 649 651 652 653 654 655 656 657 660 661 662\n",
      " 664 665 666 668 669 671 672 673 674 675 677 678 680 681 682 683 685 686\n",
      " 687 688 689 690 691 692 695 696 698 699 700 701 702 703 704 705 706 707\n",
      " 708 709 710 711 713 714 716 717 718 721 722 723 724 725 726 729 731 732\n",
      " 737 738 740 742 743 744 745 746 748 749 750 751 752 753 754 756 757 759\n",
      " 760 761 762 763 764 765 767 770 771 772 773 774 775 776 777 778 780 782\n",
      " 783 784 787 789 790 792 793 794 795 797 798 799 800 801 802 803 804 805\n",
      " 806 807 808 809 810 812 815 817 818 819 820 821 822 823 824 825 828 829\n",
      " 831 832 833 834 835 836 837 838 839 840 841 844 847 848 850 851 854 856\n",
      " 857 858 859 860 863 864 865 866 867 868 870 873 875 876 878 879 880 881\n",
      " 883 888 889 890 891 892 893 895 897 898 899 901 902 903 904 905 906 907\n",
      " 910 911 912 913 914 916 918 919 920 921 922 926 928 930 931 933 934 935\n",
      " 937 939 940 941 942 943 944 946 947 948 949 950 951 952 953 954 956 957\n",
      " 962 963 964 967 968 969 970 971 972 973 974 975 976 977 979 980] TEST: [  1   4   9  13  24  32  44  47  50  51  52  53  62  67  70  71  78  81\n",
      "  90  95 105 108 109 116 117 126 131 137 138 158 159 161 166 167 171 172\n",
      " 178 180 182 183 186 189 190 191 200 203 212 213 217 223 224 227 229 230\n",
      " 240 246 252 257 259 260 263 268 270 272 273 275 282 287 293 298 301 306\n",
      " 313 314 319 328 333 336 337 347 349 352 353 357 365 371 383 384 389 391\n",
      " 392 410 412 416 419 422 428 435 436 439 442 447 452 454 459 460 462 465\n",
      " 468 469 470 473 474 478 480 487 488 489 491 506 509 511 512 513 514 516\n",
      " 518 525 526 539 541 542 549 553 558 559 561 564 579 585 587 593 595 596\n",
      " 608 609 613 616 630 632 633 636 638 639 640 646 650 658 659 663 667 670\n",
      " 676 679 684 693 694 697 712 715 719 720 727 728 730 733 734 735 736 739\n",
      " 741 747 755 758 766 768 769 779 781 785 786 788 791 796 811 813 814 816\n",
      " 826 827 830 842 843 845 846 849 852 853 855 861 862 869 871 872 874 877\n",
      " 882 884 885 886 887 894 896 900 908 909 915 917 923 924 925 927 929 932\n",
      " 936 938 945 955 958 959 960 961 965 966 978]\n",
      "TRAIN: [  1   2   4   5   7   8   9  11  12  13  14  16  17  21  22  24  25  26\n",
      "  27  29  31  32  33  34  35  36  38  39  40  41  42  43  44  45  47  48\n",
      "  49  50  51  52  53  54  57  58  59  60  61  62  63  64  66  67  69  70\n",
      "  71  72  74  75  78  80  81  82  85  88  90  93  94  95  96  97  98  99\n",
      " 102 103 104 105 106 108 109 113 114 115 116 117 119 120 121 122 123 124\n",
      " 125 126 127 128 129 130 131 137 138 139 140 143 144 145 146 147 148 149\n",
      " 151 152 153 154 155 158 159 161 163 165 166 167 168 169 171 172 173 174\n",
      " 175 176 177 178 179 180 181 182 183 185 186 187 189 190 191 192 194 196\n",
      " 197 198 199 200 201 202 203 204 206 207 208 210 211 212 213 214 215 216\n",
      " 217 218 220 221 222 223 224 225 226 227 228 229 230 231 233 234 237 239\n",
      " 240 241 243 245 246 247 248 249 250 252 254 255 256 257 258 259 260 261\n",
      " 263 266 267 268 269 270 272 273 274 275 276 278 280 281 282 283 284 285\n",
      " 287 289 290 292 293 294 296 298 299 301 302 303 306 307 308 309 310 311\n",
      " 313 314 315 317 318 319 320 321 322 323 324 325 326 327 328 329 330 332\n",
      " 333 336 337 342 343 346 347 348 349 350 352 353 354 355 356 357 358 360\n",
      " 361 364 365 366 367 368 370 371 372 373 374 377 380 381 383 384 385 386\n",
      " 387 389 391 392 394 396 397 399 400 402 406 409 410 411 412 413 414 415\n",
      " 416 417 418 419 420 421 422 423 425 426 427 428 430 433 434 435 436 439\n",
      " 440 441 442 444 445 446 447 448 449 450 451 452 454 456 457 459 460 461\n",
      " 462 463 465 466 467 468 469 470 471 473 474 475 476 477 478 480 481 482\n",
      " 486 487 488 489 491 492 493 494 496 497 498 499 500 501 504 505 506 507\n",
      " 509 511 512 513 514 515 516 518 519 520 523 525 526 527 528 530 532 533\n",
      " 534 536 537 538 539 540 541 542 543 546 548 549 550 551 552 553 554 556\n",
      " 558 559 560 561 563 564 566 568 569 570 571 572 574 575 576 577 578 579\n",
      " 580 582 583 585 586 587 589 591 593 595 596 597 600 601 602 603 605 607\n",
      " 608 609 611 612 613 614 616 617 618 620 621 622 623 625 626 627 628 630\n",
      " 631 632 633 634 635 636 637 638 639 640 643 644 645 646 649 650 652 653\n",
      " 654 655 656 657 658 659 661 662 663 666 667 668 669 670 671 672 673 674\n",
      " 675 676 679 680 681 682 683 684 685 686 687 689 690 691 693 694 695 696\n",
      " 697 698 699 700 701 702 703 707 710 712 713 714 715 717 718 719 720 724\n",
      " 725 726 727 728 729 730 731 733 734 735 736 737 739 740 741 743 745 746\n",
      " 747 748 749 750 753 754 755 758 759 760 761 762 764 766 767 768 769 770\n",
      " 771 772 773 775 776 777 778 779 781 782 783 784 785 786 788 789 790 791\n",
      " 792 793 795 796 797 798 801 802 803 805 806 808 809 810 811 812 813 814\n",
      " 815 816 817 818 819 822 825 826 827 828 829 830 832 833 834 836 837 842\n",
      " 843 844 845 846 847 848 849 850 852 853 855 856 857 858 859 861 862 863\n",
      " 864 865 867 868 869 870 871 872 873 874 875 876 877 878 879 880 881 882\n",
      " 884 885 886 887 888 889 890 892 894 895 896 897 899 900 901 904 908 909\n",
      " 910 913 914 915 917 918 919 922 923 924 925 927 929 930 931 932 933 934\n",
      " 935 936 937 938 940 944 945 948 950 951 952 953 955 956 958 959 960 961\n",
      " 962 964 965 966 967 969 971 972 973 974 975 976 977 978 979 980] TEST: [  0   3   6  10  15  18  19  20  23  28  30  37  46  55  56  65  68  73\n",
      "  76  77  79  83  84  86  87  89  91  92 100 101 107 110 111 112 118 132\n",
      " 133 134 135 136 141 142 150 156 157 160 162 164 170 184 188 193 195 205\n",
      " 209 219 232 235 236 238 242 244 251 253 262 264 265 271 277 279 286 288\n",
      " 291 295 297 300 304 305 312 316 331 334 335 338 339 340 341 344 345 351\n",
      " 359 362 363 369 375 376 378 379 382 388 390 393 395 398 401 403 404 405\n",
      " 407 408 424 429 431 432 437 438 443 453 455 458 464 472 479 483 484 485\n",
      " 490 495 502 503 508 510 517 521 522 524 529 531 535 544 545 547 555 557\n",
      " 562 565 567 573 581 584 588 590 592 594 598 599 604 606 610 615 619 624\n",
      " 629 641 642 647 648 651 660 664 665 677 678 688 692 704 705 706 708 709\n",
      " 711 716 721 722 723 732 738 742 744 751 752 756 757 763 765 774 780 787\n",
      " 794 799 800 804 807 820 821 823 824 831 835 838 839 840 841 851 854 860\n",
      " 866 883 891 893 898 902 903 905 906 907 911 912 916 920 921 926 928 939\n",
      " 941 942 943 946 947 949 954 957 963 968 970]\n",
      "TRAIN: [  0   1   3   4   6   8   9  10  13  15  18  19  20  21  23  24  26  28\n",
      "  30  32  34  35  37  39  40  44  46  47  49  50  51  52  53  54  55  56\n",
      "  57  58  59  61  62  63  65  66  67  68  69  70  71  73  75  76  77  78\n",
      "  79  80  81  82  83  84  86  87  89  90  91  92  93  95  97  98 100 101\n",
      " 103 105 107 108 109 110 111 112 113 114 116 117 118 119 121 124 126 127\n",
      " 128 129 130 131 132 133 134 135 136 137 138 140 141 142 143 144 145 148\n",
      " 150 151 153 155 156 157 158 159 160 161 162 163 164 165 166 167 169 170\n",
      " 171 172 174 175 176 178 180 182 183 184 185 186 188 189 190 191 192 193\n",
      " 195 196 197 198 199 200 201 203 204 205 206 209 210 212 213 215 217 218\n",
      " 219 220 221 223 224 225 226 227 228 229 230 231 232 235 236 237 238 240\n",
      " 242 244 245 246 247 250 251 252 253 257 258 259 260 261 262 263 264 265\n",
      " 267 268 269 270 271 272 273 275 276 277 279 280 282 284 285 286 287 288\n",
      " 289 291 293 294 295 296 297 298 299 300 301 303 304 305 306 308 309 312\n",
      " 313 314 316 317 319 321 322 323 324 325 326 328 330 331 333 334 335 336\n",
      " 337 338 339 340 341 342 343 344 345 347 349 350 351 352 353 356 357 359\n",
      " 360 361 362 363 365 368 369 370 371 375 376 378 379 381 382 383 384 385\n",
      " 388 389 390 391 392 393 395 396 398 399 400 401 402 403 404 405 406 407\n",
      " 408 409 410 411 412 413 415 416 417 419 420 421 422 424 425 427 428 429\n",
      " 430 431 432 435 436 437 438 439 441 442 443 445 447 449 450 452 453 454\n",
      " 455 456 458 459 460 461 462 464 465 466 467 468 469 470 472 473 474 475\n",
      " 478 479 480 483 484 485 486 487 488 489 490 491 494 495 497 498 500 501\n",
      " 502 503 504 506 508 509 510 511 512 513 514 515 516 517 518 520 521 522\n",
      " 524 525 526 527 528 529 531 533 534 535 539 541 542 543 544 545 547 549\n",
      " 552 553 555 556 557 558 559 561 562 563 564 565 566 567 568 569 570 572\n",
      " 573 574 575 577 578 579 580 581 582 583 584 585 586 587 588 590 592 593\n",
      " 594 595 596 598 599 600 603 604 605 606 608 609 610 611 612 613 614 615\n",
      " 616 617 619 621 622 624 627 628 629 630 632 633 634 636 638 639 640 641\n",
      " 642 643 644 645 646 647 648 649 650 651 655 658 659 660 662 663 664 665\n",
      " 667 669 670 672 674 676 677 678 679 680 682 683 684 685 688 689 690 691\n",
      " 692 693 694 695 696 697 698 701 704 705 706 708 709 710 711 712 715 716\n",
      " 718 719 720 721 722 723 724 727 728 730 732 733 734 735 736 737 738 739\n",
      " 741 742 743 744 747 751 752 755 756 757 758 759 763 765 766 768 769 771\n",
      " 772 773 774 775 776 777 779 780 781 782 785 786 787 788 791 794 795 796\n",
      " 798 799 800 802 803 804 805 807 808 810 811 812 813 814 816 819 820 821\n",
      " 823 824 826 827 828 829 830 831 832 833 835 836 838 839 840 841 842 843\n",
      " 844 845 846 848 849 850 851 852 853 854 855 856 857 860 861 862 864 866\n",
      " 868 869 870 871 872 873 874 876 877 881 882 883 884 885 886 887 888 889\n",
      " 890 891 892 893 894 896 897 898 900 901 902 903 905 906 907 908 909 910\n",
      " 911 912 915 916 917 920 921 923 924 925 926 927 928 929 930 932 933 934\n",
      " 936 937 938 939 940 941 942 943 945 946 947 949 951 954 955 957 958 959\n",
      " 960 961 962 963 964 965 966 968 970 971 972 973 977 978 979 980] TEST: [  2   5   7  11  12  14  16  17  22  25  27  29  31  33  36  38  41  42\n",
      "  43  45  48  60  64  72  74  85  88  94  96  99 102 104 106 115 120 122\n",
      " 123 125 139 146 147 149 152 154 168 173 177 179 181 187 194 202 207 208\n",
      " 211 214 216 222 233 234 239 241 243 248 249 254 255 256 266 274 278 281\n",
      " 283 290 292 302 307 310 311 315 318 320 327 329 332 346 348 354 355 358\n",
      " 364 366 367 372 373 374 377 380 386 387 394 397 414 418 423 426 433 434\n",
      " 440 444 446 448 451 457 463 471 476 477 481 482 492 493 496 499 505 507\n",
      " 519 523 530 532 536 537 538 540 546 548 550 551 554 560 571 576 589 591\n",
      " 597 601 602 607 618 620 623 625 626 631 635 637 652 653 654 656 657 661\n",
      " 666 668 671 673 675 681 686 687 699 700 702 703 707 713 714 717 725 726\n",
      " 729 731 740 745 746 748 749 750 753 754 760 761 762 764 767 770 778 783\n",
      " 784 789 790 792 793 797 801 806 809 815 817 818 822 825 834 837 847 858\n",
      " 859 863 865 867 875 878 879 880 895 899 904 913 914 918 919 922 931 935\n",
      " 944 948 950 952 953 956 967 969 974 975 976]\n"
     ]
    }
   ],
   "source": [
    "# separate dataset into train and test\n",
    "from sklearn.model_selection import train_test_split\n",
    "X_train, X_test, y_train, y_test = train_test_split(X,y,test_size=0.2,random_state=0)\n",
    "\n",
    "skf = StratifiedKFold(n_splits=4, shuffle=True, random_state=1)\n",
    "for train_index, test_index in skf.split(X, y):\n",
    "    print(\"TRAIN:\", train_index, \"TEST:\", test_index)\n",
    "#pipe = Pipeline([('scaler', StandardScaler()),('svc', SVC(kernel = 'rbf',C=10))])\n",
    "#pipe.fit(X_train,y_train)\n",
    "#pipe.score(X_test, y_test)"
   ]
  },
  {
   "cell_type": "markdown",
   "id": "a82023ee",
   "metadata": {},
   "source": [
    "def get_score (model, X_train, X_test, y_train, y_test):\n",
    "    model.fit(X_train,y_train)\n",
    "    return model.score(X_test, y_test)"
   ]
  },
  {
   "cell_type": "markdown",
   "id": "1df36295",
   "metadata": {},
   "source": [
    "print(classification_report(y_test, best_clf.predict(X_test)))"
   ]
  },
  {
   "cell_type": "code",
   "execution_count": null,
   "id": "f4fdba0b",
   "metadata": {},
   "outputs": [],
   "source": [
    "model_params = {\n",
    "    'svm': {'model': svm.SVC(gamma='auto', probability=True),'params': {'svc__C': [1, 10, 100, 1000],\n",
    "                                                                        'svc__kernel': ['rbf', 'linear']}},\n",
    "    'random_forest': {'model': RandomForestClassifier(),'params': {'randomforestclassifier__n_estimators': [1, 5, 10]}},\n",
    "    'logistic_regression': {'model': LogisticRegression(solver='liblinear', multi_class='auto'),'params': {\n",
    "        'logisticregression__C': [1, 5, 10]}}\n",
    "                }\n",
    "\n"
   ]
  },
  {
   "cell_type": "code",
   "execution_count": null,
   "id": "19bff7a3",
   "metadata": {},
   "outputs": [
    {
     "data": {
      "text/html": [
       "<div>\n",
       "<style scoped>\n",
       "    .dataframe tbody tr th:only-of-type {\n",
       "        vertical-align: middle;\n",
       "    }\n",
       "\n",
       "    .dataframe tbody tr th {\n",
       "        vertical-align: top;\n",
       "    }\n",
       "\n",
       "    .dataframe thead th {\n",
       "        text-align: right;\n",
       "    }\n",
       "</style>\n",
       "<table border=\"1\" class=\"dataframe\">\n",
       "  <thead>\n",
       "    <tr style=\"text-align: right;\">\n",
       "      <th></th>\n",
       "      <th>model</th>\n",
       "      <th>best_score</th>\n",
       "      <th>best_params</th>\n",
       "    </tr>\n",
       "  </thead>\n",
       "  <tbody>\n",
       "    <tr>\n",
       "      <th>0</th>\n",
       "      <td>svm</td>\n",
       "      <td>0.808672</td>\n",
       "      <td>{'svc__kernel': 'linear', 'svc__C': 1000}</td>\n",
       "    </tr>\n",
       "    <tr>\n",
       "      <th>1</th>\n",
       "      <td>random_forest</td>\n",
       "      <td>0.738560</td>\n",
       "      <td>{'randomforestclassifier__n_estimators': 5}</td>\n",
       "    </tr>\n",
       "    <tr>\n",
       "      <th>2</th>\n",
       "      <td>logistic_regression</td>\n",
       "      <td>0.801021</td>\n",
       "      <td>{'logisticregression__C': 10}</td>\n",
       "    </tr>\n",
       "  </tbody>\n",
       "</table>\n",
       "</div>"
      ],
      "text/plain": [
       "                 model  best_score  \\\n",
       "0                  svm    0.808672   \n",
       "1        random_forest    0.738560   \n",
       "2  logistic_regression    0.801021   \n",
       "\n",
       "                                   best_params  \n",
       "0    {'svc__kernel': 'linear', 'svc__C': 1000}  \n",
       "1  {'randomforestclassifier__n_estimators': 5}  \n",
       "2                {'logisticregression__C': 10}  "
      ]
     },
     "execution_count": 65,
     "metadata": {},
     "output_type": "execute_result"
    }
   ],
   "source": [
    "from sklearn.model_selection import RandomizedSearchCV\n",
    "scores = []\n",
    "best_estimator = {}\n",
    "\n",
    "for algo, mp in model_params.items():\n",
    "    pipe = make_pipeline(StandardScaler(), mp['model'])\n",
    "    clf = RandomizedSearchCV(pipe, mp['params'], cv=5, n_iter=2, return_train_score=False, n_jobs=-1)\n",
    "    clf.fit(X_train, y_train)\n",
    "    scores.append({\n",
    "        'model': algo,\n",
    "        'best_score': clf.best_score_,\n",
    "        'best_params': clf.best_params_\n",
    "    })\n",
    "    best_estimator[algo] = clf.best_estimator_\n",
    "\n",
    "df = pd.DataFrame(scores, columns=['model', 'best_score', 'best_params'])\n",
    "df\n",
    "    "
   ]
  },
  {
   "cell_type": "code",
   "execution_count": null,
   "id": "ce67e42d",
   "metadata": {},
   "outputs": [
    {
     "data": {
      "text/plain": [
       "{'svm': Pipeline(steps=[('standardscaler', StandardScaler()),\n",
       "                 ('svc',\n",
       "                  SVC(C=1000, gamma='auto', kernel='linear', probability=True))]),\n",
       " 'random_forest': Pipeline(steps=[('standardscaler', StandardScaler()),\n",
       "                 ('randomforestclassifier',\n",
       "                  RandomForestClassifier(n_estimators=5))]),\n",
       " 'logistic_regression': Pipeline(steps=[('standardscaler', StandardScaler()),\n",
       "                 ('logisticregression',\n",
       "                  LogisticRegression(C=10, solver='liblinear'))])}"
      ]
     },
     "execution_count": 66,
     "metadata": {},
     "output_type": "execute_result"
    }
   ],
   "source": [
    "best_estimator"
   ]
  },
  {
   "cell_type": "code",
   "execution_count": null,
   "id": "4d0ea9d6",
   "metadata": {},
   "outputs": [
    {
     "data": {
      "text/plain": [
       "0.751269035532995"
      ]
     },
     "execution_count": 70,
     "metadata": {},
     "output_type": "execute_result"
    }
   ],
   "source": [
    "best_estimator['random_forest'].score(X_test,y_test)"
   ]
  },
  {
   "cell_type": "code",
   "execution_count": null,
   "id": "501f4816",
   "metadata": {},
   "outputs": [
    {
     "data": {
      "text/plain": [
       "0.7868020304568528"
      ]
     },
     "execution_count": 71,
     "metadata": {},
     "output_type": "execute_result"
    }
   ],
   "source": [
    "best_estimator['svm'].score(X_test,y_test)"
   ]
  },
  {
   "cell_type": "code",
   "execution_count": null,
   "id": "f3b6347a",
   "metadata": {},
   "outputs": [
    {
     "data": {
      "text/plain": [
       "0.7817258883248731"
      ]
     },
     "execution_count": 72,
     "metadata": {},
     "output_type": "execute_result"
    }
   ],
   "source": [
    "best_estimator['logistic_regression'].score(X_test,y_test)"
   ]
  },
  {
   "cell_type": "code",
   "execution_count": null,
   "id": "efc78e37",
   "metadata": {},
   "outputs": [],
   "source": [
    "best_clf=best_estimator['svm']"
   ]
  },
  {
   "cell_type": "code",
   "execution_count": null,
   "id": "c6a3fd91",
   "metadata": {},
   "outputs": [
    {
     "name": "stdout",
     "output_type": "stream",
     "text": [
      "              precision    recall  f1-score   support\n",
      "\n",
      "           0       0.00      0.00      0.00        42\n",
      "           1       0.79      1.00      0.88       155\n",
      "\n",
      "    accuracy                           0.79       197\n",
      "   macro avg       0.39      0.50      0.44       197\n",
      "weighted avg       0.62      0.79      0.69       197\n",
      "\n"
     ]
    },
    {
     "name": "stderr",
     "output_type": "stream",
     "text": [
      "C:\\Users\\Administrator\\anaconda3\\Lib\\site-packages\\sklearn\\metrics\\_classification.py:1344: UndefinedMetricWarning: Precision and F-score are ill-defined and being set to 0.0 in labels with no predicted samples. Use `zero_division` parameter to control this behavior.\n",
      "  _warn_prf(average, modifier, msg_start, len(result))\n",
      "C:\\Users\\Administrator\\anaconda3\\Lib\\site-packages\\sklearn\\metrics\\_classification.py:1344: UndefinedMetricWarning: Precision and F-score are ill-defined and being set to 0.0 in labels with no predicted samples. Use `zero_division` parameter to control this behavior.\n",
      "  _warn_prf(average, modifier, msg_start, len(result))\n",
      "C:\\Users\\Administrator\\anaconda3\\Lib\\site-packages\\sklearn\\metrics\\_classification.py:1344: UndefinedMetricWarning: Precision and F-score are ill-defined and being set to 0.0 in labels with no predicted samples. Use `zero_division` parameter to control this behavior.\n",
      "  _warn_prf(average, modifier, msg_start, len(result))\n"
     ]
    }
   ],
   "source": [
    "from sklearn.metrics import accuracy_score, classification_report, confusion_matrix\n",
    "\n",
    "print(classification_report(y_test, best_clf.predict(X_test)))"
   ]
  },
  {
   "cell_type": "code",
   "execution_count": null,
   "id": "6b063270",
   "metadata": {},
   "outputs": [
    {
     "data": {
      "text/plain": [
       "array([[  0,  42],\n",
       "       [  0, 155]], dtype=int64)"
      ]
     },
     "execution_count": 75,
     "metadata": {},
     "output_type": "execute_result"
    }
   ],
   "source": [
    "cm=confusion_matrix(y_test, best_clf.predict(X_test))\n",
    "cm"
   ]
  },
  {
   "cell_type": "code",
   "execution_count": null,
   "id": "825100d0",
   "metadata": {},
   "outputs": [
    {
     "data": {
      "text/plain": [
       "Text(20.72222222222222, 0.5, 'Truth')"
      ]
     },
     "execution_count": 76,
     "metadata": {},
     "output_type": "execute_result"
    },
    {
     "data": {
      "image/png": "[encoded data removed]",
      "text/plain": [
       "<Figure size 400x100 with 2 Axes>"
      ]
     },
     "metadata": {},
     "output_type": "display_data"
    }
   ],
   "source": [
    "sns.heatmap(cm,annot=True)\n",
    "plt.xlabel('Predicted')\n",
    "plt.ylabel('Truth')"
   ]
  },
  {
   "cell_type": "markdown",
   "id": "b81ebae4",
   "metadata": {},
   "source": [
    "1. The best estimator is svm. The accuracy is a measure of how many predictions were correct out of the total number of            predictions which is 81% with train data and 79% with test data is quite good score.\n",
    "2. Precision: Precision measures the accuracy of positive predictions. In this case, the precision for the positive class (\"Y\")    is approximately 79%. This means that out of all instances predicted as \"Y,\" around 79% were correct.\n",
    "3. Recall: Recall (also known as sensitivity or true positive rate) measures the ability of the model to correctly identify        positive instances. The recall for the positive class (\"Y\") is 100%, indicating that the model is capturing all positive        instances.\n",
    "4. F1-score: The F1-score is the harmonic mean of precision and recall. It balances the trade-off between precision and recall.    The F1-score for the positive class (\"Y\") is approximately 88%, which is a good balance between precision and recall.\n",
    "5. Support: Support is the number of actual occurrences of each class in the dataset.\n",
    "   The \"macro avg\" treats all classes equally, while the \"weighted avg\" takes into account the class imbalance in the dataset.    In your case, the weighted average is higher because the \"Y\" class dominates the dataset.\n",
    "6. Confusion Matrix: True Negatives (TN): 0 - The number of instances that are actually negative and were correctly predicted      as negative.\n",
    "   False Positives (FP): 42 - The number of instances that are actually negative but were incorrectly predicted as                positive.\n",
    "   False Negatives (FN): 0 - The number of instances that are actually positive but were incorrectly predicted as                  negative.\n",
    "   True Positives (TP): 162 - The number of instances that are actually positive and were correctly predicted as positive"
   ]
  },
  {
   "cell_type": "code",
   "execution_count": null,
   "id": "e3f6590c",
   "metadata": {},
   "outputs": [],
   "source": [
    "import pickle\n",
    "\n",
    "with open('Home Loan Approval.pickle','wb') as f:\n",
    "    pickle.dump(best_clf,f)\n",
    "    "
   ]
  },
  {
   "cell_type": "code",
   "execution_count": null,
   "id": "1af0b7f1",
   "metadata": {},
   "outputs": [],
   "source": [
    "import json\n",
    "columns = {\n",
    "    'data_columns' : [col.lower() for col in X.columns]\n",
    "}\n",
    "with open('columns.json','w')as f:\n",
    "    f.write(json.dumps(columns))"
   ]
  },
  {
   "cell_type": "code",
   "execution_count": null,
   "id": "36c53a3f",
   "metadata": {},
   "outputs": [],
   "source": []
  }
 ],
 "metadata": {
  "kernelspec": {
   "display_name": "Python 3 (ipykernel)",
   "language": "python",
   "name": "python3"
  },
  "language_info": {
   "codemirror_mode": {
    "name": "ipython",
    "version": 3
   },
   "file_extension": ".py",
   "mimetype": "text/x-python",
   "name": "python",
   "nbconvert_exporter": "python",
   "pygments_lexer": "ipython3",
   "version": "3.10.11"
  }
 },
 "nbformat": 4,
 "nbformat_minor": 5
}
